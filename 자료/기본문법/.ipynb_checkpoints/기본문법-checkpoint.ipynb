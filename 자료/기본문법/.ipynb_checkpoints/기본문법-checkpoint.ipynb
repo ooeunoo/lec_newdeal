{
 "cells": [
  {
   "cell_type": "code",
   "execution_count": 2,
   "id": "4cb8ebbf",
   "metadata": {},
   "outputs": [],
   "source": [
    "num = 10\n",
    "num2 = 3"
   ]
  },
  {
   "cell_type": "code",
   "execution_count": 3,
   "id": "0e80b222",
   "metadata": {},
   "outputs": [
    {
     "data": {
      "text/plain": [
       "13"
      ]
     },
     "execution_count": 3,
     "metadata": {},
     "output_type": "execute_result"
    }
   ],
   "source": [
    "num + num2 "
   ]
  },
  {
   "cell_type": "code",
   "execution_count": 4,
   "id": "763110ad",
   "metadata": {},
   "outputs": [
    {
     "data": {
      "text/plain": [
       "7"
      ]
     },
     "execution_count": 4,
     "metadata": {},
     "output_type": "execute_result"
    }
   ],
   "source": [
    "num - num2"
   ]
  },
  {
   "cell_type": "code",
   "execution_count": 5,
   "id": "4050b471",
   "metadata": {},
   "outputs": [
    {
     "data": {
      "text/plain": [
       "30"
      ]
     },
     "execution_count": 5,
     "metadata": {},
     "output_type": "execute_result"
    }
   ],
   "source": [
    "num * num2"
   ]
  },
  {
   "cell_type": "code",
   "execution_count": 6,
   "id": "614c9836",
   "metadata": {},
   "outputs": [
    {
     "data": {
      "text/plain": [
       "3.3333333333333335"
      ]
     },
     "execution_count": 6,
     "metadata": {},
     "output_type": "execute_result"
    }
   ],
   "source": [
    "num / num2"
   ]
  },
  {
   "cell_type": "code",
   "execution_count": 7,
   "id": "0ec3922a",
   "metadata": {},
   "outputs": [
    {
     "data": {
      "text/plain": [
       "3"
      ]
     },
     "execution_count": 7,
     "metadata": {},
     "output_type": "execute_result"
    }
   ],
   "source": [
    "num // num2"
   ]
  },
  {
   "cell_type": "code",
   "execution_count": 8,
   "id": "281e1e98",
   "metadata": {},
   "outputs": [
    {
     "data": {
      "text/plain": [
       "1"
      ]
     },
     "execution_count": 8,
     "metadata": {},
     "output_type": "execute_result"
    }
   ],
   "source": [
    "num % num2"
   ]
  },
  {
   "cell_type": "code",
   "execution_count": 9,
   "id": "5469ec2b",
   "metadata": {},
   "outputs": [],
   "source": [
    "import math"
   ]
  },
  {
   "cell_type": "code",
   "execution_count": 10,
   "id": "95846bfb",
   "metadata": {},
   "outputs": [
    {
     "data": {
      "text/plain": [
       "0.49999999999999994"
      ]
     },
     "execution_count": 10,
     "metadata": {},
     "output_type": "execute_result"
    }
   ],
   "source": [
    "math.sin(math.radians(30))"
   ]
  },
  {
   "cell_type": "code",
   "execution_count": 11,
   "id": "65b45cd5",
   "metadata": {},
   "outputs": [],
   "source": [
    "a = 3.2"
   ]
  },
  {
   "cell_type": "code",
   "execution_count": 12,
   "id": "37dab399",
   "metadata": {},
   "outputs": [
    {
     "data": {
      "text/plain": [
       "4"
      ]
     },
     "execution_count": 12,
     "metadata": {},
     "output_type": "execute_result"
    }
   ],
   "source": [
    "math.ceil(a)"
   ]
  },
  {
   "cell_type": "code",
   "execution_count": 13,
   "id": "ff53becd",
   "metadata": {},
   "outputs": [
    {
     "data": {
      "text/plain": [
       "3"
      ]
     },
     "execution_count": 13,
     "metadata": {},
     "output_type": "execute_result"
    }
   ],
   "source": [
    "math.trunc(a)"
   ]
  },
  {
   "cell_type": "code",
   "execution_count": 14,
   "id": "f2d6af1d",
   "metadata": {},
   "outputs": [
    {
     "name": "stdout",
     "output_type": "stream",
     "text": [
      "Hello world!!\n"
     ]
    }
   ],
   "source": [
    "print(\"Hello world!!\")"
   ]
  },
  {
   "cell_type": "code",
   "execution_count": 15,
   "id": "43dbdf74",
   "metadata": {},
   "outputs": [
    {
     "ename": "SyntaxError",
     "evalue": "invalid syntax. Perhaps you forgot a comma? (576362961.py, line 1)",
     "output_type": "error",
     "traceback": [
      "\u001b[1;36m  Cell \u001b[1;32mIn[15], line 1\u001b[1;36m\u001b[0m\n\u001b[1;33m    print(hello world!)\u001b[0m\n\u001b[1;37m          ^\u001b[0m\n\u001b[1;31mSyntaxError\u001b[0m\u001b[1;31m:\u001b[0m invalid syntax. Perhaps you forgot a comma?\n"
     ]
    }
   ],
   "source": [
    "print(hello world!)"
   ]
  },
  {
   "cell_type": "code",
   "execution_count": 16,
   "id": "d2d93171",
   "metadata": {},
   "outputs": [
    {
     "name": "stdout",
     "output_type": "stream",
     "text": [
      "100\n"
     ]
    }
   ],
   "source": [
    "a = 100\n",
    "print(a)"
   ]
  },
  {
   "cell_type": "code",
   "execution_count": 17,
   "id": "67360d9d",
   "metadata": {},
   "outputs": [
    {
     "name": "stdout",
     "output_type": "stream",
     "text": [
      "hello world\n"
     ]
    }
   ],
   "source": [
    "b = \"hello world\"\n",
    "print(b)"
   ]
  },
  {
   "cell_type": "code",
   "execution_count": 19,
   "id": "0e1dc853",
   "metadata": {},
   "outputs": [
    {
     "name": "stdout",
     "output_type": "stream",
     "text": [
      "\n",
      "math.isfinite(x)\n",
      "x가 무한대나 NaN이 아니면 True를, 그렇지 않으면 False를 반환합니다. (0.0은 유한한 것으로 간주합니다.)\n",
      "\n",
      "버전 3.2에 추가.\n",
      "버전 3.9에 추가.\n",
      "\n"
     ]
    }
   ],
   "source": [
    "print(\"\"\"\n",
    "math.isfinite(x)\n",
    "x가 무한대나 NaN이 아니면 True를, 그렇지 않으면 False를 반환합니다. (0.0은 유한한 것으로 간주합니다.)\n",
    "\n",
    "버전 3.2에 추가.\n",
    "버전 3.9에 추가.\n",
    "\"\"\")"
   ]
  },
  {
   "cell_type": "code",
   "execution_count": 20,
   "id": "07cd6b4f",
   "metadata": {},
   "outputs": [
    {
     "name": "stdout",
     "output_type": "stream",
     "text": [
      " math.isfinite(x)\n",
      "x가 무한대나 NaN이 아니면 True를, 그렇지 않으면 False를 반환합니다. (0.0은 유한한 것으로 간주합니다.)\n",
      "\n",
      "버전 3.2에 추가.\n",
      "\n",
      "math.isinf(x)\n",
      "\n"
     ]
    }
   ],
   "source": [
    "c = \"\"\" math.isfinite(x)\n",
    "x가 무한대나 NaN이 아니면 True를, 그렇지 않으면 False를 반환합니다. (0.0은 유한한 것으로 간주합니다.)\n",
    "\n",
    "버전 3.2에 추가.\n",
    "\n",
    "math.isinf(x)\n",
    "\"\"\"\n",
    "print(c)"
   ]
  },
  {
   "cell_type": "code",
   "execution_count": 21,
   "id": "321d0e26",
   "metadata": {},
   "outputs": [
    {
     "name": "stdout",
     "output_type": "stream",
     "text": [
      "2 + 3 =  5\n"
     ]
    }
   ],
   "source": [
    "print(\"2 + 3 = \", 2 + 3)"
   ]
  },
  {
   "cell_type": "code",
   "execution_count": 22,
   "id": "90b9e844",
   "metadata": {},
   "outputs": [
    {
     "name": "stdout",
     "output_type": "stream",
     "text": [
      "2 * 3 =  6\n"
     ]
    }
   ],
   "source": [
    "print(\"2 * 3 = \", 2 * 3)"
   ]
  },
  {
   "cell_type": "markdown",
   "id": "51a35c2b",
   "metadata": {},
   "source": [
    "###  특수 문자열\n",
    "\n",
    "- 줄바꿈 \\n\n",
    "- 탭 \\t\n",
    "- 역슬래시 \\\\\n",
    "- 큰 따움표 \\\"\n",
    "- 작은 따움표 \\'\n",
    "\n"
   ]
  },
  {
   "cell_type": "code",
   "execution_count": 24,
   "id": "d244db05",
   "metadata": {},
   "outputs": [
    {
     "name": "stdout",
     "output_type": "stream",
     "text": [
      "안녕하세요.\n",
      "파이썬 공부중입니다.\n"
     ]
    }
   ],
   "source": [
    "print(\"안녕하세요.\\n파이썬 공부중입니다.\")"
   ]
  },
  {
   "cell_type": "code",
   "execution_count": 25,
   "id": "c5e54895",
   "metadata": {},
   "outputs": [
    {
     "name": "stdout",
     "output_type": "stream",
     "text": [
      "안녕하세요. 나의 이름은 \"홍길동\" 입니다.\n"
     ]
    }
   ],
   "source": [
    "print(\"안녕하세요. 나의 이름은 \\\"홍길동\\\" 입니다.\")"
   ]
  },
  {
   "cell_type": "code",
   "execution_count": 26,
   "id": "19ff8739",
   "metadata": {},
   "outputs": [
    {
     "name": "stdout",
     "output_type": "stream",
     "text": [
      "010 1234 5678\n"
     ]
    }
   ],
   "source": [
    "print(\"010\", \"1234\", \"5678\")"
   ]
  },
  {
   "cell_type": "code",
   "execution_count": 28,
   "id": "782b3ead",
   "metadata": {},
   "outputs": [
    {
     "name": "stdout",
     "output_type": "stream",
     "text": [
      "010-1234-5678\n"
     ]
    }
   ],
   "source": [
    "print(\"010\", \"1234\", \"5678\", sep=\"-\")"
   ]
  },
  {
   "cell_type": "code",
   "execution_count": 29,
   "id": "e2797639",
   "metadata": {},
   "outputs": [
    {
     "name": "stdout",
     "output_type": "stream",
     "text": [
      "Hello~world!!!"
     ]
    }
   ],
   "source": [
    "print(\"Hello\", \"world\", sep=\"~\", end=\"!!!\")"
   ]
  },
  {
   "cell_type": "code",
   "execution_count": 30,
   "id": "ac9bf9eb",
   "metadata": {},
   "outputs": [],
   "source": [
    "s = \"Hello world\""
   ]
  },
  {
   "cell_type": "code",
   "execution_count": 31,
   "id": "5c661006",
   "metadata": {},
   "outputs": [
    {
     "data": {
      "text/plain": [
       "'w'"
      ]
     },
     "execution_count": 31,
     "metadata": {},
     "output_type": "execute_result"
    }
   ],
   "source": [
    "s[6]"
   ]
  },
  {
   "cell_type": "code",
   "execution_count": 32,
   "id": "8f724fca",
   "metadata": {},
   "outputs": [
    {
     "data": {
      "text/plain": [
       "11"
      ]
     },
     "execution_count": 32,
     "metadata": {},
     "output_type": "execute_result"
    }
   ],
   "source": [
    "len(s)"
   ]
  },
  {
   "cell_type": "code",
   "execution_count": 33,
   "id": "3fff4ea5",
   "metadata": {},
   "outputs": [
    {
     "data": {
      "text/plain": [
       "'Hello'"
      ]
     },
     "execution_count": 33,
     "metadata": {},
     "output_type": "execute_result"
    }
   ],
   "source": [
    "s[0] + s[1] + s[2] + s[3] + s[4]"
   ]
  },
  {
   "cell_type": "code",
   "execution_count": 36,
   "id": "398d9808",
   "metadata": {},
   "outputs": [
    {
     "data": {
      "text/plain": [
       "'Hello'"
      ]
     },
     "execution_count": 36,
     "metadata": {},
     "output_type": "execute_result"
    }
   ],
   "source": [
    "s[0:5]"
   ]
  },
  {
   "cell_type": "code",
   "execution_count": 37,
   "id": "d38eee06",
   "metadata": {},
   "outputs": [
    {
     "data": {
      "text/plain": [
       "'world'"
      ]
     },
     "execution_count": 37,
     "metadata": {},
     "output_type": "execute_result"
    }
   ],
   "source": [
    "s[6:11]"
   ]
  },
  {
   "cell_type": "code",
   "execution_count": 38,
   "id": "131067e6",
   "metadata": {},
   "outputs": [
    {
     "data": {
      "text/plain": [
       "'Hello world'"
      ]
     },
     "execution_count": 38,
     "metadata": {},
     "output_type": "execute_result"
    }
   ],
   "source": [
    "s"
   ]
  },
  {
   "cell_type": "code",
   "execution_count": 39,
   "id": "bac190d0",
   "metadata": {},
   "outputs": [
    {
     "data": {
      "text/plain": [
       "['Hell', ' w', 'rld']"
      ]
     },
     "execution_count": 39,
     "metadata": {},
     "output_type": "execute_result"
    }
   ],
   "source": [
    "s.split(\"o\")"
   ]
  },
  {
   "cell_type": "code",
   "execution_count": 40,
   "id": "ca27895c",
   "metadata": {},
   "outputs": [
    {
     "data": {
      "text/plain": [
       "['Hello', 'world']"
      ]
     },
     "execution_count": 40,
     "metadata": {},
     "output_type": "execute_result"
    }
   ],
   "source": [
    "s.split(\" \")"
   ]
  },
  {
   "cell_type": "code",
   "execution_count": 41,
   "id": "b5b4f95c",
   "metadata": {},
   "outputs": [],
   "source": [
    "s2 = \"google,naver,daum\""
   ]
  },
  {
   "cell_type": "code",
   "execution_count": 42,
   "id": "f4371ea9",
   "metadata": {},
   "outputs": [
    {
     "data": {
      "text/plain": [
       "['google', 'naver', 'daum']"
      ]
     },
     "execution_count": 42,
     "metadata": {},
     "output_type": "execute_result"
    }
   ],
   "source": [
    "s2.split(\",\")"
   ]
  },
  {
   "cell_type": "code",
   "execution_count": 43,
   "id": "cb01f7f1",
   "metadata": {},
   "outputs": [
    {
     "data": {
      "text/plain": [
       "'Hello world'"
      ]
     },
     "execution_count": 43,
     "metadata": {},
     "output_type": "execute_result"
    }
   ],
   "source": [
    "s"
   ]
  },
  {
   "cell_type": "code",
   "execution_count": 44,
   "id": "7a55508d",
   "metadata": {},
   "outputs": [
    {
     "data": {
      "text/plain": [
       "'HELLO WORLD'"
      ]
     },
     "execution_count": 44,
     "metadata": {},
     "output_type": "execute_result"
    }
   ],
   "source": [
    "s.upper()"
   ]
  },
  {
   "cell_type": "code",
   "execution_count": 45,
   "id": "6959c8ad",
   "metadata": {},
   "outputs": [
    {
     "data": {
      "text/plain": [
       "'hello world'"
      ]
     },
     "execution_count": 45,
     "metadata": {},
     "output_type": "execute_result"
    }
   ],
   "source": [
    "s.lower()"
   ]
  },
  {
   "cell_type": "code",
   "execution_count": 46,
   "id": "49607a42",
   "metadata": {},
   "outputs": [
    {
     "data": {
      "text/plain": [
       "'Hello world'"
      ]
     },
     "execution_count": 46,
     "metadata": {},
     "output_type": "execute_result"
    }
   ],
   "source": [
    "s.capitalize()"
   ]
  },
  {
   "cell_type": "code",
   "execution_count": 47,
   "id": "b1fcf29c",
   "metadata": {},
   "outputs": [
    {
     "data": {
      "text/plain": [
       "'Hello world'"
      ]
     },
     "execution_count": 47,
     "metadata": {},
     "output_type": "execute_result"
    }
   ],
   "source": [
    "s"
   ]
  },
  {
   "cell_type": "code",
   "execution_count": 48,
   "id": "119683b8",
   "metadata": {},
   "outputs": [
    {
     "data": {
      "text/plain": [
       "'google,naver,daum'"
      ]
     },
     "execution_count": 48,
     "metadata": {},
     "output_type": "execute_result"
    }
   ],
   "source": [
    "s2"
   ]
  },
  {
   "cell_type": "code",
   "execution_count": 49,
   "id": "b7196e8d",
   "metadata": {},
   "outputs": [
    {
     "data": {
      "text/plain": [
       "'Google,naver,daum'"
      ]
     },
     "execution_count": 49,
     "metadata": {},
     "output_type": "execute_result"
    }
   ],
   "source": [
    "s2.capitalize()"
   ]
  },
  {
   "cell_type": "code",
   "execution_count": 50,
   "id": "bf8b0e47",
   "metadata": {},
   "outputs": [
    {
     "data": {
      "text/plain": [
       "'Google,Naver,Daum'"
      ]
     },
     "execution_count": 50,
     "metadata": {},
     "output_type": "execute_result"
    }
   ],
   "source": [
    "s2.title()"
   ]
  },
  {
   "cell_type": "code",
   "execution_count": 51,
   "id": "00f105e8",
   "metadata": {},
   "outputs": [],
   "source": [
    "email = \"hello@gmail.com\"\n",
    "email2 = \"world@naver.com\""
   ]
  },
  {
   "cell_type": "code",
   "execution_count": 59,
   "id": "5980f980",
   "metadata": {},
   "outputs": [
    {
     "data": {
      "text/plain": [
       "True"
      ]
     },
     "execution_count": 59,
     "metadata": {},
     "output_type": "execute_result"
    }
   ],
   "source": [
    "email.endswith(\"gmail.com\")"
   ]
  },
  {
   "cell_type": "code",
   "execution_count": 53,
   "id": "0f407524",
   "metadata": {},
   "outputs": [
    {
     "data": {
      "text/plain": [
       "False"
      ]
     },
     "execution_count": 53,
     "metadata": {},
     "output_type": "execute_result"
    }
   ],
   "source": [
    "email2.endswith(\"gmail.com\")"
   ]
  },
  {
   "cell_type": "code",
   "execution_count": 61,
   "id": "4e68b8cc",
   "metadata": {},
   "outputs": [
    {
     "data": {
      "text/plain": [
       "True"
      ]
     },
     "execution_count": 61,
     "metadata": {},
     "output_type": "execute_result"
    }
   ],
   "source": [
    "email.split(\"@\")[1] == \"gmail.com\""
   ]
  },
  {
   "cell_type": "code",
   "execution_count": 63,
   "id": "a7c7d792",
   "metadata": {},
   "outputs": [],
   "source": [
    "number = \"9012342-1232134\"\n",
    "number2 = \"0292384-2484383\""
   ]
  },
  {
   "cell_type": "code",
   "execution_count": 65,
   "id": "59e03c07",
   "metadata": {},
   "outputs": [
    {
     "data": {
      "text/plain": [
       "True"
      ]
     },
     "execution_count": 65,
     "metadata": {},
     "output_type": "execute_result"
    }
   ],
   "source": [
    "number.startswith(\"90\")"
   ]
  },
  {
   "cell_type": "code",
   "execution_count": 66,
   "id": "4a077338",
   "metadata": {},
   "outputs": [],
   "source": [
    "name = \"harry parter\""
   ]
  },
  {
   "cell_type": "code",
   "execution_count": 67,
   "id": "76aafc81",
   "metadata": {},
   "outputs": [
    {
     "data": {
      "text/plain": [
       "'harry porter'"
      ]
     },
     "execution_count": 67,
     "metadata": {},
     "output_type": "execute_result"
    }
   ],
   "source": [
    "name.replace(\"parter\", \"porter\")"
   ]
  },
  {
   "cell_type": "code",
   "execution_count": 68,
   "id": "956951ad",
   "metadata": {},
   "outputs": [],
   "source": [
    "regions = \"sooul,busan,daeo,gwangju,sooul\""
   ]
  },
  {
   "cell_type": "code",
   "execution_count": 71,
   "id": "4367e821",
   "metadata": {},
   "outputs": [
    {
     "data": {
      "text/plain": [
       "['Seoul', 'Busan', 'Daeo', 'Gwangju', 'Seoul']"
      ]
     },
     "execution_count": 71,
     "metadata": {},
     "output_type": "execute_result"
    }
   ],
   "source": [
    "regions.replace(\"sooul\", \"seoul\").title().split(\",\")"
   ]
  },
  {
   "cell_type": "code",
   "execution_count": 83,
   "id": "d6b94ce1",
   "metadata": {},
   "outputs": [],
   "source": [
    "news = \"\"\"      비트코인 가격이 미국 증권거래위원회(SEC)의 규제 리스크에도 하루 사이 반등해 화제다.\n",
    "\n",
    "6일(현지시간) CNBC에 따르면 비트와이즈 자산운용은 \"암호화폐 관계자들이 SEC의 규제 리스크를 오히려 긍정적으로 해석하고 있다\"며 \"장기적으로는 암호화폐 업계에 호재가 될 것으로 판단해 시장에 재진입하고 있다\"고 밝혔다.\n",
    "\n",
    "앞서 비트코인 가격은 지난 5일(현지시간) SEC가 세계 최대 암호화폐 거래소 바이낸스와 자오 창펑 바이낸스 최고경영자(CEO)를 상대로 소송을 제기했다는 소식에 6% 이상 급락하며 2만 6천 달러 아래로 떨어진 바 있다. 이는 지난 3월 이후 약 3개월 만에 가장 낮은 수준이었다.\n",
    "\n",
    "여기에 SEC가 바이낸스에 이어 미국의 최대 암호화폐 거래소 코인베이스 역시 증권법 위반 혐의로 고소하며 비트코인 가격은 낙폭을 확대했다. 당시 SEC는 코인베이스가 미등록 브로커 및 거래소 역할을 하고 있다며 관련 행위를 지속하지 못하도록 법원이 영구적인 제지와 금지명령을 내려야 한다고 강조했다.\n",
    "\n",
    "다만 암호화폐 시장을 둘러싼 당국의 규제 리스크에도 불구하고 비트코인 가격은 하루 사이 6% 이상 급등하며 2만 7천 달러선까지 회복한 상태다. 그동안 암호화폐 시장이 규제 리스크를 직면할 때마다 하락했던 것을 감안하면 이례적인 현상이다.\n",
    "\n",
    "이와 관련해 매트 호건 비트와이즈 자산운용 최고투자책임자(CIO)는 암호화폐 관계자들이 이번 규제 리스크를 오히려 긍정적으로 평가하고 있다고 설명했다.\n",
    "\n",
    "그는 \"역사적으로 SEC가 규제 기준을 강화할 때마다 암호화폐 시장에는 호재가 됐다\"면서 \"코인베이스와 바이낸스에 대한 제소가 단기적으로는 암호화폐 시장 불확실성을 증대시키겠지만 장기적으로는 큰 이득이 될 것\"이라고 평가했다.\n",
    "\n",
    "이어 \"SEC의 제소가 지난 1월부터 시작된 암호화폐 규제 리스크의 끝을 알리는 신호탄이 될 가능성이 있다\"면서 \"일부 투자자들은 이번 제소를 끝으로 SEC가 더 이상 암호화폐 규제 강화에 나서지 않을 것으로 예상해 공격적인 저가 매수에 나서고 있다\"고 밝혔다.\n",
    "\n",
    "또한 비트코인 가격이 연초 대비 60% 이상 반등한 상태에서 '암호화폐 혹한기'는 이미 지나갔다며, 암호화폐 거래소들이 당분간 규제 역풍에 시달릴 수 있지만 비트코인을 비롯한 주요 암호화폐 가격은 상승세를 이어갈 것이라고 덧붙였다.\n",
    "\n",
    "이날 비트코인 가격은 오전 9시 40분(한국시간) 코인데스크 기준 전일 대비 6% 급등한 27,292.63달러에 거래되고 있다.\"\"\""
   ]
  },
  {
   "cell_type": "code",
   "execution_count": 84,
   "id": "b2581d9c",
   "metadata": {},
   "outputs": [
    {
     "data": {
      "text/plain": [
       "2"
      ]
     },
     "execution_count": 84,
     "metadata": {},
     "output_type": "execute_result"
    }
   ],
   "source": [
    "news.count(\"급등\")"
   ]
  },
  {
   "cell_type": "code",
   "execution_count": 85,
   "id": "2f4f9869",
   "metadata": {},
   "outputs": [
    {
     "data": {
      "text/plain": [
       "0"
      ]
     },
     "execution_count": 85,
     "metadata": {},
     "output_type": "execute_result"
    }
   ],
   "source": [
    "news.index(\"비트코인\")"
   ]
  },
  {
   "cell_type": "code",
   "execution_count": 86,
   "id": "e5ff3edf",
   "metadata": {},
   "outputs": [
    {
     "data": {
      "text/plain": [
       "0"
      ]
     },
     "execution_count": 86,
     "metadata": {},
     "output_type": "execute_result"
    }
   ],
   "source": [
    "news.find(\"비트코인\")"
   ]
  },
  {
   "cell_type": "code",
   "execution_count": 87,
   "id": "af8ce0d3",
   "metadata": {},
   "outputs": [
    {
     "ename": "ValueError",
     "evalue": "substring not found",
     "output_type": "error",
     "traceback": [
      "\u001b[1;31m---------------------------------------------------------------------------\u001b[0m",
      "\u001b[1;31mValueError\u001b[0m                                Traceback (most recent call last)",
      "Cell \u001b[1;32mIn[87], line 1\u001b[0m\n\u001b[1;32m----> 1\u001b[0m \u001b[43mnews\u001b[49m\u001b[38;5;241;43m.\u001b[39;49m\u001b[43mindex\u001b[49m\u001b[43m(\u001b[49m\u001b[38;5;124;43m\"\u001b[39;49m\u001b[38;5;124;43mABC\u001b[39;49m\u001b[38;5;124;43m\"\u001b[39;49m\u001b[43m)\u001b[49m\n",
      "\u001b[1;31mValueError\u001b[0m: substring not found"
     ]
    }
   ],
   "source": [
    "news.index(\"ABC\")"
   ]
  },
  {
   "cell_type": "code",
   "execution_count": 88,
   "id": "86f81819",
   "metadata": {},
   "outputs": [
    {
     "data": {
      "text/plain": [
       "-1"
      ]
     },
     "execution_count": 88,
     "metadata": {},
     "output_type": "execute_result"
    }
   ],
   "source": [
    "news.find(\"ABC\")"
   ]
  },
  {
   "cell_type": "code",
   "execution_count": 89,
   "id": "876b0918",
   "metadata": {},
   "outputs": [],
   "source": [
    "news2 = \"\"\" 전기요금 인상을 계기로 혜택이 확대되는 에너지캐시백 제도 홍보 및 안정적 운용을 위해 에너지캐시백 신청 참여기간이 앞당겨진다. kWh당 최대 100원을 환급하는 에너지캐시백은 7월부터 확대시행될 예정이다.\n",
    "\n",
    "한국전력공사(015760)는 주택용 고객의 에너지 소비절약 의식 고취와 전기요금 부담완화를 위해 7월분 전기사용 절감량부터 적용되는 에너지캐시백의 신청을 7일부터 사전 온라인 신청을 받는다고 밝혔다.\n",
    "\n",
    "주택용 에너지캐시백은 신청일이 속하는 월분부터 적용하는 것이 원칙이지만 한전은 제도 확대 초기 신청 집중을 감안해 올 7월분에 한해서는 6월부터 미리 접수를 하기로 했다. 아울러 8월31일까지 신청한 고객에게도 소급 적용할 계획이다.\n",
    "\n",
    "지난해부터 시행 중인 주택용 에너지캐시백은 과거 2개년 동월 평균 대비 절감률을 3% 이상 줄이고 동일 검침일, 동일지역(한전 15개 지역본부 기준) 참여자 평균절감률 이상 달성할 경우 절감률 30%를 한도로 kWh당 30원을 지급하는 제도다.\n",
    "\n",
    "정부와 한전은 원가 상승에 따른 올해 불가피한 전기요금 인상으로 서민 부담이 늘어나는 점을 감안해 에너지캐시백 제도를 7월부터 확대 시행할 예정이다.\n",
    "\n",
    "7월부터는 과거 2개년 동월 평균 대비 5% 이상 절감할 경우 절감률 30%를 한도로 절감률 수준에 따라 kWh당 30~70원의 차등 캐시백을 추가 지급한다. 기본 캐시백 30원과 합하면 kWh당 최대 100원의 할인을 받을 수 있다. 단 내년부터는 차등캐시백은 절감률 수준에 따라 kWh당 30~50원으로 조정된다.\n",
    "\n",
    "캐시백도 현금, 기부, 전기요금차감 중 고객이 선택한 방식으로 반기 단위로 지급하던 것을 7월부터는 익월 전기요금에서 차감하는 방식으로 변경해 고객의 적극적 피드백을 유도한다.\n",
    "\n",
    "한전은 올 1·2분기 두 차례에 걸쳐 kWh당 21.1원을 인상했다. 지난해 4인가구의 평균 전기사용량은 427kWh로 6만6690원이 부과됐는데, 올해 여름철에 작년과 동일한 427kWh를 사용하면 8만530원으로 1만840원을 더 내야 한다.\n",
    "\n",
    "주택용 에너지캐시백에 가입하고 사용량을 10% 줄일 경우 캐시백 3900원(기본 캐시백)과 전기사용량 절감에 따른 요금감소액 1만1180원(차등캐시백)을 포함하면 1만5080원의 요금 절감이 가능하다. 427kWh 기준 요금은 6만5450원으로 지난해보다 1000원가량을 덜 내게 되는 셈이다.\n",
    "\n",
    "사용량을 20% 절감(86kWh)할 경우 요금 절감액은 3만2130원, 캐시백 한도인 30% 절감시엔 4만8760원이 줄어 전기요금은 지난해 요금의 절반을 하회(52%↓)하는 3만1770원이 된다.\n",
    "\n",
    "한전은 \"에너지캐시백 제도 참여를 희망하는 일반주택, 아파트 등에 거주하는 개별세대는 그 주소지에 주민 등록된 구성원이 신청할 수 있다\"며 \"한전 지사 방문신청이 가능해지는 7월 전까지는 온라인 신청만 가능하다\"고 밝혔다.\"\"\""
   ]
  },
  {
   "cell_type": "code",
   "execution_count": null,
   "id": "f4a78b04",
   "metadata": {},
   "outputs": [],
   "source": []
  }
 ],
 "metadata": {
  "kernelspec": {
   "display_name": "Python 3 (ipykernel)",
   "language": "python",
   "name": "python3"
  },
  "language_info": {
   "codemirror_mode": {
    "name": "ipython",
    "version": 3
   },
   "file_extension": ".py",
   "mimetype": "text/x-python",
   "name": "python",
   "nbconvert_exporter": "python",
   "pygments_lexer": "ipython3",
   "version": "3.11.3"
  }
 },
 "nbformat": 4,
 "nbformat_minor": 5
}
