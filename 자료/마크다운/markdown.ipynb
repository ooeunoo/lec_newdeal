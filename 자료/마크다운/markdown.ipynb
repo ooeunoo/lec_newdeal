{
 "cells": [
  {
   "cell_type": "raw",
   "id": "2b5425bc",
   "metadata": {},
   "source": [
    "큰 제목을 작성하기 위해서는\n",
    "글 하단에 ======"
   ]
  },
  {
   "cell_type": "markdown",
   "id": "958bc0fe",
   "metadata": {},
   "source": [
    "큰 제목\n",
    "======="
   ]
  },
  {
   "cell_type": "raw",
   "id": "fbfb92e0",
   "metadata": {},
   "source": [
    "작은 제목을 작성하기 위해서는\n",
    "글 하단에 ------"
   ]
  },
  {
   "cell_type": "markdown",
   "id": "e0a7b77b",
   "metadata": {},
   "source": [
    "작은 제목\n",
    "-------"
   ]
  },
  {
   "cell_type": "raw",
   "id": "bc222ab0",
   "metadata": {},
   "source": [
    "h1: #\n",
    "h2: ##\n",
    "h3: ###\n",
    "...\n",
    "\n",
    "h6: #######"
   ]
  },
  {
   "cell_type": "markdown",
   "id": "40a7ce19",
   "metadata": {},
   "source": [
    "# 이건 h1입니다\n",
    "## H2\n",
    "### H3\n",
    "##### H4\n",
    "###### H5"
   ]
  },
  {
   "cell_type": "raw",
   "id": "944ede9e",
   "metadata": {},
   "source": [
    "// 블럭 인용\n",
    "\n",
    "> 글자\n",
    "   >> 글자"
   ]
  },
  {
   "cell_type": "markdown",
   "id": "7e40e89b",
   "metadata": {},
   "source": [
    "> 안쪽 블럭 인용\n",
    "    >> 두번쨰 블럭 인용\n",
    "        >>> 세번째 블럭 인용"
   ]
  },
  {
   "cell_type": "raw",
   "id": "35a34c74",
   "metadata": {},
   "source": [
    "// 강조\n",
    "사과\n",
    "**사과**"
   ]
  },
  {
   "cell_type": "markdown",
   "id": "7d4992f4",
   "metadata": {},
   "source": [
    "사과\n",
    "**사과**"
   ]
  },
  {
   "cell_type": "raw",
   "id": "20c01492",
   "metadata": {},
   "source": [
    "// 취소선\n",
    "\n",
    "수박\n",
    "~~수박~~"
   ]
  },
  {
   "cell_type": "markdown",
   "id": "7b2a6c3b",
   "metadata": {},
   "source": [
    "수박\n",
    "~~수박~~"
   ]
  },
  {
   "cell_type": "raw",
   "id": "4a20a3d0",
   "metadata": {},
   "source": [
    "// 목록\n",
    "\n",
    "순서 있는 목록\n",
    "1. 글\n",
    "2. 글\n",
    "3. 글\n",
    "\n",
    "순서 없는 목록(+, *, -)\n",
    "* 글\n",
    "+ 글\n",
    "- 글"
   ]
  },
  {
   "cell_type": "markdown",
   "id": "eedd5f47",
   "metadata": {},
   "source": [
    "1. 첫 번째\n",
    "2. 두 번째\n",
    "3. 세 번째"
   ]
  },
  {
   "cell_type": "markdown",
   "id": "f2385da2",
   "metadata": {},
   "source": [
    "+ 목록1\n",
    "    + 목록1-1\n",
    "    + 목록1-2\n",
    "+ 목록2\n",
    "    + 목록2-1\n",
    "    + 목록2-2"
   ]
  },
  {
   "cell_type": "raw",
   "id": "0411f981",
   "metadata": {},
   "source": [
    "// 이미지 \n",
    "\n",
    "![대체 텍스트](이미지 경로)\n",
    "<img src=\"이미지경로\" />"
   ]
  },
  {
   "cell_type": "markdown",
   "id": "b687c2f6",
   "metadata": {},
   "source": [
    "![카카오](kakao.jpg)"
   ]
  },
  {
   "cell_type": "markdown",
   "id": "c7d51345",
   "metadata": {},
   "source": [
    "<img src=\"kakao.jpg\" width=\"200px\" height=\"200px\" />"
   ]
  },
  {
   "cell_type": "raw",
   "id": "86524030",
   "metadata": {},
   "source": [
    "// 코드블럭 넣기\n",
    "\n",
    "``` 코드작성 ```\n",
    "\n",
    "<pre> \n",
    "  <code>\n",
    "      코드 작성\n",
    "  </code>\n",
    "</pre>"
   ]
  },
  {
   "cell_type": "markdown",
   "id": "af4a132d",
   "metadata": {},
   "source": [
    "이건 파이썬 코드입니다.\n",
    "```\n",
    "def get_name():\n",
    "    print(\"hello\")\n",
    "```\n",
    "코드 완성!"
   ]
  },
  {
   "cell_type": "markdown",
   "id": "69ca7670",
   "metadata": {},
   "source": [
    "이건 파이썬 코드입니다.\n",
    "\n",
    "```python\n",
    "def get_name():\n",
    "    print(\"hello\")\n",
    "```"
   ]
  },
  {
   "cell_type": "markdown",
   "id": "0c202c32",
   "metadata": {},
   "source": [
    "이건 자바스크립트 코드입니다.\n",
    "\n",
    "```javascript\n",
    "function get_name():\n",
    "    console.log(\"hello\")\n",
    "```"
   ]
  },
  {
   "cell_type": "raw",
   "id": "3f26769c",
   "metadata": {},
   "source": [
    "// 수평선\n",
    "\n",
    "* * * \n",
    "\n",
    "***\n",
    "\n",
    "- - -\n",
    "\n",
    "---"
   ]
  },
  {
   "cell_type": "markdown",
   "id": "f8252a27",
   "metadata": {},
   "source": [
    "* * *\n",
    "\n",
    "***\n",
    "\n",
    "- - -\n",
    "\n",
    "---"
   ]
  },
  {
   "cell_type": "raw",
   "id": "78da846e",
   "metadata": {},
   "source": [
    "// 링크\n",
    "\n",
    "[제목](링크경로)"
   ]
  },
  {
   "cell_type": "markdown",
   "id": "3e5b32ce",
   "metadata": {},
   "source": [
    "[Google](https://google.com)\n",
    "[나의 깃헙](https://github.com/cseongeun/portfolio)"
   ]
  },
  {
   "cell_type": "raw",
   "id": "5f639abf",
   "metadata": {},
   "source": [
    "// 자동링크\n",
    "\n",
    "www.naver.com\n",
    "hongildong@gmail.com"
   ]
  },
  {
   "cell_type": "markdown",
   "id": "24d7a25b",
   "metadata": {},
   "source": [
    "구글 주소: https://google.com\n",
    "나의 이메일: hongildong@gmail.com"
   ]
  },
  {
   "cell_type": "markdown",
   "id": "2a4a6031",
   "metadata": {},
   "source": [
    "이력서\n",
    "===\n",
    "\n",
    "부제목\n",
    "---\n",
    "\n",
    "\n",
    "## 목차\n",
    "1. [성장과정](#1.-성장과정)\n",
    "    - 초등학교\n",
    "    - 중학교\n",
    "    - 고등학교\n",
    "\n",
    "2. [나의 스킬](#2.-나의-스킬) \n",
    "    - 코딩 \n",
    "    - 데이터베이스\n",
    "   \n",
    "3. 목표\n",
    "\n",
    "\n",
    "## 1. 성장과정\n",
    "\n",
    "#### 1-1. 초등학교\n",
    "나는 초등학교에서망러ㅏㅇㄴ멀\n",
    "\n",
    "#### 1-2. 중학교\n",
    "ㄴㅁㅇㄹ\n",
    "\n",
    "#### 1-3. 고등학교\n",
    "ㅁㄹㄴㅇㄹ\n",
    "\n",
    "## 2. 나의 스킬 \n",
    "\n",
    "\n",
    "#### 2-1. 코딩\n",
    "\n",
    "#### 2-2. 데이터베이스\n",
    "    \n",
    "## 3. 목표\n",
    "\n",
    "\n"
   ]
  },
  {
   "cell_type": "code",
   "execution_count": null,
   "id": "5300cc5c",
   "metadata": {},
   "outputs": [],
   "source": []
  },
  {
   "cell_type": "code",
   "execution_count": null,
   "id": "a923aae0",
   "metadata": {},
   "outputs": [],
   "source": []
  }
 ],
 "metadata": {
  "kernelspec": {
   "display_name": "Python 3 (ipykernel)",
   "language": "python",
   "name": "python3"
  },
  "language_info": {
   "codemirror_mode": {
    "name": "ipython",
    "version": 3
   },
   "file_extension": ".py",
   "mimetype": "text/x-python",
   "name": "python",
   "nbconvert_exporter": "python",
   "pygments_lexer": "ipython3",
   "version": "3.11.3"
  }
 },
 "nbformat": 4,
 "nbformat_minor": 5
}
