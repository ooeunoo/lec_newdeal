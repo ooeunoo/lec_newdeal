{
 "cells": [
  {
   "cell_type": "code",
   "execution_count": 10,
   "id": "f8705811",
   "metadata": {},
   "outputs": [
    {
     "name": "stdout",
     "output_type": "stream",
     "text": [
      "10\n",
      "현재 숫자:  0\n",
      "현재 숫자:  1\n",
      "현재 숫자:  6\n",
      "현재 숫자:  0\n"
     ]
    }
   ],
   "source": [
    "# 카운터 클래스\n",
    "# 최초 넘버를 설정\n",
    "# 증가하는 기능\n",
    "# 리셋버튼을 클릭하면 넘버가 0으로 초기화된다.\n",
    "class Counter:\n",
    "    \n",
    "    def __init__(self, init_value = 0):\n",
    "        self.count = init_value\n",
    "    \n",
    "    def increment(self):\n",
    "        self.count += 1\n",
    "        \n",
    "    def reset(self):\n",
    "        self.count = 0\n",
    "        \n",
    "yellow_counter = Counter()\n",
    "red_counter = Counter(10)\n",
    "\n",
    "print(red_counter.count)\n",
    "\n",
    "print('현재 숫자: ', yellow_counter.count)\n",
    "\n",
    "yellow_counter.increment()\n",
    "\n",
    "print('현재 숫자: ', yellow_counter.count)\n",
    "\n",
    "yellow_counter.increment()\n",
    "yellow_counter.increment()\n",
    "yellow_counter.increment()\n",
    "yellow_counter.increment()\n",
    "yellow_counter.increment()\n",
    "\n",
    "print('현재 숫자: ', yellow_counter.count)\n",
    "\n",
    "yellow_counter.reset()\n",
    "\n",
    "print('현재 숫자: ', yellow_counter.count)"
   ]
  },
  {
   "cell_type": "code",
   "execution_count": 33,
   "id": "4043ee4d",
   "metadata": {},
   "outputs": [
    {
     "name": "stdout",
     "output_type": "stream",
     "text": [
      "전원: False 채널: 0 볼륨: 0 브랜드: Samsung 색상: black\n",
      "전원: False 채널: 0 볼륨: 0 브랜드: Samsung 색상: black\n",
      "전원: True 채널: 0 볼륨: 0 브랜드: Samsung 색상: black\n",
      "전원: True 채널: 0 볼륨: 1 브랜드: Samsung 색상: black\n"
     ]
    }
   ],
   "source": [
    "# TV \n",
    "# 현재 채널, 현재 볼륨, 브랜드, 색상, 전원 상태 속성\n",
    "# 전원 키고 끄기, 채널(Up, Down), 볼륨(Up, Down)\n",
    "# 전원이 켜진 상태여야 채널, 볼륨이 Up, Down 된다.\n",
    "class TV:\n",
    "    def __init__(self, brand, color, on=False, channel=0, volume=0):\n",
    "        self.brand = brand \n",
    "        self.color = color\n",
    "        self.on = on\n",
    "        self.channel = channel \n",
    "        self.volume = volume\n",
    "    \n",
    "    def toggleOn(self):\n",
    "        self.on = not(self.on)    \n",
    "\n",
    "    def upChannel(self):\n",
    "        if self.on:\n",
    "            self.channel += 1\n",
    "    \n",
    "    def downChannel(self):\n",
    "        if self.on and self.channel != 0:\n",
    "            self.channel -= 1\n",
    "    \n",
    "    def upVolume(self):\n",
    "        if self.on:\n",
    "            self.volume += 1\n",
    "    \n",
    "    def downVolume(self):\n",
    "        if self.on and self.volume != 0:\n",
    "            self.volume -= 1\n",
    "            \n",
    "s = TV(\"Samsung\", \"black\", False, 0, 0)\n",
    "s \n",
    "t = s\n",
    "s, t\n",
    "print(f\"전원: {s.on} 채널: {s.channel} 볼륨: {s.volume} 브랜드: {s.brand} 색상: {s.color}\")\n",
    "\n",
    "s.upVolume()\n",
    "print(f\"전원: {s.on} 채널: {s.channel} 볼륨: {s.volume} 브랜드: {s.brand} 색상: {s.color}\")\n",
    "\n",
    "s.toggleOn() # 전원 켜기\n",
    "print(f\"전원: {s.on} 채널: {s.channel} 볼륨: {s.volume} 브랜드: {s.brand} 색상: {s.color}\")\n",
    "\n",
    "s.upVolume()\n",
    "print(f\"전원: {s.on} 채널: {s.channel} 볼륨: {s.volume} 브랜드: {s.brand} 색상: {s.color}\")\n",
    "\n",
    "s.upChannel()\n",
    "s.upChannel()\n",
    "s.upChannel()\n",
    "s.upChannel()\n",
    "s.toggleOn() # 전원 끄기\n",
    "s.toggleOn() \n"
   ]
  },
  {
   "cell_type": "code",
   "execution_count": 42,
   "id": "d9f4e5bf",
   "metadata": {},
   "outputs": [
    {
     "name": "stdout",
     "output_type": "stream",
     "text": [
      "속도:  0\n",
      "속도:  1\n",
      "속도:  3\n",
      "속도:  2\n"
     ]
    },
    {
     "ename": "AttributeError",
     "evalue": "'Car' object has no attribute 'boost'",
     "output_type": "error",
     "traceback": [
      "\u001b[1;31m---------------------------------------------------------------------------\u001b[0m",
      "\u001b[1;31mAttributeError\u001b[0m                            Traceback (most recent call last)",
      "Cell \u001b[1;32mIn[42], line 40\u001b[0m\n\u001b[0;32m     37\u001b[0m \u001b[38;5;28mprint\u001b[39m(\u001b[38;5;124m'\u001b[39m\u001b[38;5;124m속도: \u001b[39m\u001b[38;5;124m'\u001b[39m, t\u001b[38;5;241m.\u001b[39mspeed) \u001b[38;5;66;03m# 현재 속도\u001b[39;00m\n\u001b[0;32m     39\u001b[0m c \u001b[38;5;241m=\u001b[39m Car(\u001b[38;5;124m\"\u001b[39m\u001b[38;5;124m현대\u001b[39m\u001b[38;5;124m\"\u001b[39m, \u001b[38;5;124m\"\u001b[39m\u001b[38;5;124mred\u001b[39m\u001b[38;5;124m\"\u001b[39m)\n\u001b[1;32m---> 40\u001b[0m \u001b[43mc\u001b[49m\u001b[38;5;241;43m.\u001b[39;49m\u001b[43mboost\u001b[49m()\n",
      "\u001b[1;31mAttributeError\u001b[0m: 'Car' object has no attribute 'boost'"
     ]
    }
   ],
   "source": [
    "# 클래스 차\n",
    "# 속도, 방향, 브랜드, 색상\n",
    "# 액셀, 브레이크, 핸들(좌, 정면, 우)\n",
    "\n",
    "# 클래스 트럭, (차 클래스 상속)\n",
    "# 탑재량 (최초에 초기화)\n",
    "# 부스터 (액셀 X 2)\n",
    "class Car:\n",
    "    def __init__(self, brand, color):\n",
    "        self.speed = 0\n",
    "        self.direction = '정면' \n",
    "        self.brand = brand\n",
    "        self.color = color\n",
    "    \n",
    "    def accelerate(self):\n",
    "        self.speed += 1\n",
    "    \n",
    "    def brake(self):\n",
    "        self.speed -= 1\n",
    "    \n",
    "class Truck(Car):\n",
    "    def __init__(self, brand, color, load):\n",
    "        super().__init__(brand, color)\n",
    "        self.load = load\n",
    "    \n",
    "    def boost(self):\n",
    "        self.speed += 2\n",
    "        \n",
    "t = Truck(\"현대\", \"black\", 1000)\n",
    "\n",
    "print('속도: ', t.speed) # 현재 속도\n",
    "t.accelerate()\n",
    "print('속도: ', t.speed) # 현재 속도\n",
    "t.boost()\n",
    "print('속도: ', t.speed) # 현재 속도\n",
    "t.brake()\n",
    "print('속도: ', t.speed) # 현재 속도\n",
    "\n",
    "c = Car(\"현대\", \"red\")\n",
    "c.boost()"
   ]
  },
  {
   "cell_type": "code",
   "execution_count": 46,
   "id": "20f6c83d",
   "metadata": {},
   "outputs": [
    {
     "data": {
      "text/plain": [
       "(1000, 2000)"
      ]
     },
     "execution_count": 46,
     "metadata": {},
     "output_type": "execute_result"
    }
   ],
   "source": [
    "# 직원(Employee) 클래스 \n",
    "# 이름, 월급 \n",
    "# 월급을 보는 함수(get_salary())\n",
    "\n",
    "# 매니저(Manager) 클래스 - 직원 상속\n",
    "# 월급 * 2\n",
    "\n",
    "# A 직원\n",
    "# B 매니저\n",
    "class Employee:\n",
    "    def __init__(self, name, salary):\n",
    "        self.name = name\n",
    "        self.salary = salary\n",
    "    \n",
    "    def get_salary(self):\n",
    "        return self.salary\n",
    "    \n",
    "class Manager(Employee):\n",
    "    def __init__(self, name, salary):\n",
    "        super().__init__(name, salary)\n",
    "        \n",
    "    def get_salary(self):\n",
    "        return self.salary * 2\n",
    "    \n",
    "a = Employee(\"A\", 1000)\n",
    "b = Manager(\"B\", 1000)\n",
    "\n",
    "a.get_salary(), b.get_salary()"
   ]
  },
  {
   "cell_type": "code",
   "execution_count": null,
   "id": "917e27d9",
   "metadata": {},
   "outputs": [],
   "source": []
  },
  {
   "cell_type": "code",
   "execution_count": null,
   "id": "92419b25",
   "metadata": {},
   "outputs": [],
   "source": []
  },
  {
   "cell_type": "code",
   "execution_count": null,
   "id": "139d2bfa",
   "metadata": {},
   "outputs": [],
   "source": []
  },
  {
   "cell_type": "code",
   "execution_count": null,
   "id": "482318b8",
   "metadata": {},
   "outputs": [],
   "source": []
  },
  {
   "cell_type": "code",
   "execution_count": null,
   "id": "db31c8e2",
   "metadata": {},
   "outputs": [],
   "source": []
  }
 ],
 "metadata": {
  "kernelspec": {
   "display_name": "Python 3 (ipykernel)",
   "language": "python",
   "name": "python3"
  },
  "language_info": {
   "codemirror_mode": {
    "name": "ipython",
    "version": 3
   },
   "file_extension": ".py",
   "mimetype": "text/x-python",
   "name": "python",
   "nbconvert_exporter": "python",
   "pygments_lexer": "ipython3",
   "version": "3.11.3"
  }
 },
 "nbformat": 4,
 "nbformat_minor": 5
}
