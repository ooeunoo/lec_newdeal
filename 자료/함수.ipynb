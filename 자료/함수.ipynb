{
 "cells": [
  {
   "cell_type": "code",
   "execution_count": 5,
   "id": "a17b42fc",
   "metadata": {},
   "outputs": [
    {
     "name": "stdout",
     "output_type": "stream",
     "text": [
      "안녕~ 철수야, 잘지내지\n",
      "안녕~ 민지야, 잘가\n",
      "안녕~ 길동야, 이리와\n"
     ]
    }
   ],
   "source": [
    "# 이름을 인자로 받고 \"안녕~ OO야, OOOOO\"\n",
    "def greet(name, msg = \"이리와\"):\n",
    "    print(f\"안녕~ {name}야, {msg}\")\n",
    "    \n",
    "greet(\"철수\", \"잘지내지\")\n",
    "greet(\"민지\", \"잘가\")\n",
    "greet(\"길동\")"
   ]
  },
  {
   "cell_type": "code",
   "execution_count": 7,
   "id": "45e33c16",
   "metadata": {},
   "outputs": [
    {
     "name": "stdout",
     "output_type": "stream",
     "text": [
      "2 4\n"
     ]
    }
   ],
   "source": [
    "# 두개의 값을 리턴하는 함수\n",
    "def get_data(x, y):\n",
    "    return x * 2, y * 2\n",
    "    \n",
    "a, b = get_data(1, 2)\n",
    "print(a, b)"
   ]
  },
  {
   "cell_type": "code",
   "execution_count": 10,
   "id": "079d38ba",
   "metadata": {},
   "outputs": [],
   "source": [
    "# 나중에 작성할 함수, 미리 선언\n",
    "\n",
    "# TODO: 회사방침.\n",
    "def singup():\n",
    "    # 카카오 \n",
    "    # 구글 \n",
    "    pass"
   ]
  },
  {
   "cell_type": "code",
   "execution_count": 19,
   "id": "917eaccf",
   "metadata": {},
   "outputs": [
    {
     "data": {
      "text/plain": [
       "28.26"
      ]
     },
     "execution_count": 19,
     "metadata": {},
     "output_type": "execute_result"
    }
   ],
   "source": [
    "# 함수에 다른 함수를 사용하기\n",
    "def get_area(radius):\n",
    "    area = 3.14 * square(radius)\n",
    "    return area\n",
    "\n",
    "def square(x):\n",
    "    return x ** 2\n",
    "\n",
    "get_area(3)"
   ]
  },
  {
   "cell_type": "code",
   "execution_count": 22,
   "id": "a0d77513",
   "metadata": {},
   "outputs": [
    {
     "ename": "SyntaxError",
     "evalue": "positional argument follows keyword argument (2627207170.py, line 8)",
     "output_type": "error",
     "traceback": [
      "\u001b[1;36m  Cell \u001b[1;32mIn[22], line 8\u001b[1;36m\u001b[0m\n\u001b[1;33m    get_plus(x=1, 2, 3)\u001b[0m\n\u001b[1;37m                      ^\u001b[0m\n\u001b[1;31mSyntaxError\u001b[0m\u001b[1;31m:\u001b[0m positional argument follows keyword argument\n"
     ]
    }
   ],
   "source": [
    "# 위치, 키워드 인수\n",
    "def get_plus(x, y, z):\n",
    "    return x + y + z\n",
    "\n",
    "get_plus(1, 2, 3)\n",
    "get_plus(x=1, y=2, z=3)\n",
    "get_plus(1, y=2, z=3)\n",
    "get_plus(x=1, 2, 3)"
   ]
  },
  {
   "cell_type": "code",
   "execution_count": 23,
   "id": "dad81296",
   "metadata": {},
   "outputs": [
    {
     "name": "stdout",
     "output_type": "stream",
     "text": [
      "(1, 2, 3, 4, 5, 6, 7, 8) <class 'tuple'>\n"
     ]
    }
   ],
   "source": [
    "# 가변 인수\n",
    "def all_print(*args):\n",
    "    print(args, type(args))\n",
    "    \n",
    "all_print(1, 2, 3, 4, 5, 6, 7, 8)"
   ]
  },
  {
   "cell_type": "code",
   "execution_count": 24,
   "id": "9cbc7d35",
   "metadata": {},
   "outputs": [
    {
     "name": "stdout",
     "output_type": "stream",
     "text": [
      "{'a': 1, 'b': 2, 'c': 3, 'name': '철수', 'type': ['a', 'b']} <class 'dict'>\n"
     ]
    }
   ],
   "source": [
    "def all_print2(**kwargs):\n",
    "    print(kwargs, type(kwargs))\n",
    "\n",
    "all_print2(a=1, b=2, c=3, name=\"철수\", type=[\"a\", \"b\"])"
   ]
  },
  {
   "cell_type": "code",
   "execution_count": 30,
   "id": "29c02959",
   "metadata": {},
   "outputs": [
    {
     "data": {
      "text/plain": [
       "93326215443944152681699238856266700490715968264381621468592963895217599993229915608941463976156518286253697920827223758251185210916864000000000000000000000000"
      ]
     },
     "execution_count": 30,
     "metadata": {},
     "output_type": "execute_result"
    }
   ],
   "source": [
    "# 재귀호출\n",
    "# 팩토리얼\n",
    "'''\n",
    "팩토리얼 \n",
    "5! = 5 * 4 * 3 * 2 * 1\n",
    "4! = 4 * 3 * 2 * 1\n",
    "17! = 17 * ... * 1\n",
    "\n",
    "5! = 5 * 4!\n",
    "   = 5 * 4 * 3!\n",
    "   = 60 * 2!\n",
    "   = 120 * 1!\n",
    "   = 120\n",
    "   \n",
    "0! = 1\n",
    "'''\n",
    "def factorial(n):\n",
    "     '''\n",
    "      n * factorial(n-1)\n",
    "        4 * factorial(3)\n",
    "            3 * factorial(2)\n",
    "                2 * factorial(1)\n",
    "                     1 * factorial(0)\n",
    "     ''' \n",
    "     if n == 0:\n",
    "         return 1\n",
    "     else: \n",
    "         return n * factorial(n - 1)\n",
    "  \n",
    "factorial(100)"
   ]
  },
  {
   "cell_type": "code",
   "execution_count": 44,
   "id": "09d3411e",
   "metadata": {},
   "outputs": [
    {
     "data": {
      "text/plain": [
       "False"
      ]
     },
     "execution_count": 44,
     "metadata": {},
     "output_type": "execute_result"
    }
   ],
   "source": [
    "# 바이너리 서치\n",
    "# 리스트가 있고, 리스트 안에 내가 찾고하는 값이 있는지 탐색을 하는 알고리즘\n",
    "# 리스트의 중간을 찾아보고 중간값이 내가 찾고자하는 값보다 크면 [:중간인덱스]\n",
    "# 중간값이 내가 찾고자 하는 값보다 작으면 [중간값인덱스:]\n",
    "\n",
    "# [1,2,3,4,5,6,7,8,9,10], 7\n",
    "# -조건: 리스트가 오름차순으로 정렬\n",
    "\n",
    "def binary_search(arr, target):\n",
    "    if not arr:\n",
    "        return False\n",
    "    \n",
    "    mid = len(arr) // 2\n",
    "    \n",
    "    mid_value = arr[mid]\n",
    "    \n",
    "    if mid_value == target:\n",
    "        return True\n",
    "    elif mid_value > target:\n",
    "        return binary_search(arr[:mid], target)\n",
    "    else: \n",
    "        return binary_search(arr[mid+1:], target) \n",
    "    \n",
    "binary_search([1,2,3,4,5,6,7,8,9,10], 13)"
   ]
  },
  {
   "cell_type": "code",
   "execution_count": 45,
   "id": "6fce033a",
   "metadata": {},
   "outputs": [
    {
     "name": "stdout",
     "output_type": "stream",
     "text": [
      "100\n",
      "100\n"
     ]
    }
   ],
   "source": [
    "gx = 100\n",
    "\n",
    "def my_func():\n",
    "    print(gx)\n",
    "    \n",
    "my_func()\n",
    "print(gx)"
   ]
  },
  {
   "cell_type": "code",
   "execution_count": 47,
   "id": "e380f1c1",
   "metadata": {},
   "outputs": [
    {
     "name": "stdout",
     "output_type": "stream",
     "text": [
      "200\n",
      "100\n"
     ]
    }
   ],
   "source": [
    "gx2 = 100\n",
    "g2 = 200 \n",
    "def my_func2():\n",
    "    gx2 = g2 # 함수 내에서 변수 값을 저장하면 지역변수가 된다.\n",
    "    print(gx2) # 200\n",
    "    \n",
    "my_func2()\n",
    "print(gx2) # 100"
   ]
  },
  {
   "cell_type": "code",
   "execution_count": 48,
   "id": "65d3850c",
   "metadata": {},
   "outputs": [
    {
     "name": "stdout",
     "output_type": "stream",
     "text": [
      "200\n",
      "200\n"
     ]
    }
   ],
   "source": [
    "gx3 = 100\n",
    "g3 = 200 \n",
    "def my_func3():\n",
    "    global gx3\n",
    "    gx3 = g3 \n",
    "    print(gx3) # 200\n",
    "    \n",
    "my_func3()\n",
    "print(gx3) # 200"
   ]
  },
  {
   "cell_type": "markdown",
   "id": "cd9d6601",
   "metadata": {},
   "source": [
    "## Lambda\n",
    "\n",
    "- 예약어로 def와 동일하다 \n",
    "- 함수를 간단하게 한줄로 표현할때 사용"
   ]
  },
  {
   "cell_type": "code",
   "execution_count": 53,
   "id": "9ff2bfc5",
   "metadata": {},
   "outputs": [
    {
     "data": {
      "text/plain": [
       "3"
      ]
     },
     "execution_count": 53,
     "metadata": {},
     "output_type": "execute_result"
    }
   ],
   "source": [
    "add = lambda x, y: x+y\n",
    "\n",
    "#def add(x, y):\n",
    "#    return x + y\n",
    "\n",
    "add(1,2)"
   ]
  },
  {
   "cell_type": "code",
   "execution_count": 51,
   "id": "d08292f1",
   "metadata": {},
   "outputs": [
    {
     "data": {
      "text/plain": [
       "10"
      ]
     },
     "execution_count": 51,
     "metadata": {},
     "output_type": "execute_result"
    }
   ],
   "source": [
    "cal_len = lambda s: len(s)\n",
    "\n",
    "cal_len(\"hellohello\")"
   ]
  },
  {
   "cell_type": "code",
   "execution_count": 52,
   "id": "9535b693",
   "metadata": {},
   "outputs": [
    {
     "data": {
      "text/plain": [
       "[1, 2, 3, 4, 5, 6, 7, 1, 2, 3, 4, 5, 6, 7]"
      ]
     },
     "execution_count": 52,
     "metadata": {},
     "output_type": "execute_result"
    }
   ],
   "source": [
    "mul_list = lambda l: l * 2\n",
    "mul_list([1,2,3,4,5,6,7])"
   ]
  },
  {
   "cell_type": "code",
   "execution_count": null,
   "id": "8cda1550",
   "metadata": {},
   "outputs": [],
   "source": []
  }
 ],
 "metadata": {
  "kernelspec": {
   "display_name": "Python 3 (ipykernel)",
   "language": "python",
   "name": "python3"
  },
  "language_info": {
   "codemirror_mode": {
    "name": "ipython",
    "version": 3
   },
   "file_extension": ".py",
   "mimetype": "text/x-python",
   "name": "python",
   "nbconvert_exporter": "python",
   "pygments_lexer": "ipython3",
   "version": "3.11.3"
  }
 },
 "nbformat": 4,
 "nbformat_minor": 5
}
