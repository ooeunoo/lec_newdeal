{
 "cells": [
  {
   "cell_type": "code",
   "execution_count": 1,
   "id": "505657c0",
   "metadata": {},
   "outputs": [],
   "source": [
    "temps = [28, 29, 30, 31, 32, 27, 34]"
   ]
  },
  {
   "cell_type": "code",
   "execution_count": 2,
   "id": "36b0161a",
   "metadata": {},
   "outputs": [
    {
     "data": {
      "text/plain": [
       "29"
      ]
     },
     "execution_count": 2,
     "metadata": {},
     "output_type": "execute_result"
    }
   ],
   "source": [
    "temps[1]"
   ]
  },
  {
   "cell_type": "code",
   "execution_count": 3,
   "id": "0817b68b",
   "metadata": {},
   "outputs": [
    {
     "data": {
      "text/plain": [
       "31"
      ]
     },
     "execution_count": 3,
     "metadata": {},
     "output_type": "execute_result"
    }
   ],
   "source": [
    "temps[3]"
   ]
  },
  {
   "cell_type": "code",
   "execution_count": 4,
   "id": "c79c36b9",
   "metadata": {},
   "outputs": [
    {
     "data": {
      "text/plain": [
       "[28, 29, 30, 31, 29, 27, 34]"
      ]
     },
     "execution_count": 4,
     "metadata": {},
     "output_type": "execute_result"
    }
   ],
   "source": [
    "temps[4] = 29\n",
    "temps"
   ]
  },
  {
   "cell_type": "code",
   "execution_count": 6,
   "id": "3d9fbea0",
   "metadata": {},
   "outputs": [
    {
     "ename": "IndexError",
     "evalue": "list assignment index out of range",
     "output_type": "error",
     "traceback": [
      "\u001b[1;31m---------------------------------------------------------------------------\u001b[0m",
      "\u001b[1;31mIndexError\u001b[0m                                Traceback (most recent call last)",
      "Cell \u001b[1;32mIn[6], line 1\u001b[0m\n\u001b[1;32m----> 1\u001b[0m \u001b[43mtemps\u001b[49m\u001b[43m[\u001b[49m\u001b[38;5;241;43m7\u001b[39;49m\u001b[43m]\u001b[49m \u001b[38;5;241m=\u001b[39m \u001b[38;5;241m23\u001b[39m\n",
      "\u001b[1;31mIndexError\u001b[0m: list assignment index out of range"
     ]
    }
   ],
   "source": [
    "temps[7] = 23"
   ]
  },
  {
   "cell_type": "code",
   "execution_count": 7,
   "id": "dd363611",
   "metadata": {},
   "outputs": [
    {
     "data": {
      "text/plain": [
       "7"
      ]
     },
     "execution_count": 7,
     "metadata": {},
     "output_type": "execute_result"
    }
   ],
   "source": [
    "len(temps)"
   ]
  },
  {
   "cell_type": "code",
   "execution_count": 8,
   "id": "7261650b",
   "metadata": {},
   "outputs": [
    {
     "name": "stdout",
     "output_type": "stream",
     "text": [
      "28\n",
      "29\n",
      "30\n",
      "31\n",
      "29\n",
      "27\n",
      "34\n"
     ]
    }
   ],
   "source": [
    "for i in temps:\n",
    "    print(i)"
   ]
  },
  {
   "cell_type": "code",
   "execution_count": 11,
   "id": "8361f025",
   "metadata": {},
   "outputs": [
    {
     "name": "stdout",
     "output_type": "stream",
     "text": [
      "name 홍길동\n",
      "age 22\n"
     ]
    }
   ],
   "source": [
    "questions = [\"name\", \"age\"]\n",
    "answers = [\"홍길동\", 22]\n",
    "\n",
    "for q, a in zip(questions, answers):\n",
    "    print(q, a)"
   ]
  },
  {
   "cell_type": "code",
   "execution_count": 13,
   "id": "2c71dec1",
   "metadata": {},
   "outputs": [
    {
     "name": "stdout",
     "output_type": "stream",
     "text": [
      "한국의 수도인 서울에는 100명의 인구가 거주중입니다\n",
      "중국의 수도인 베이징에는 200명의 인구가 거주중입니다\n",
      "일본의 수도인 도쿄에는 300명의 인구가 거주중입니다\n"
     ]
    }
   ],
   "source": [
    "countries = ['한국', '중국', '일본']\n",
    "capitals = ['서울', '베이징','도쿄']\n",
    "populations = [100, 200, 300]\n",
    "\n",
    "## 한국의 수도인 서울에는 100명의 인구가 거주중입니다.\n",
    "for country, capital, population in zip(countries, capitals, populations):\n",
    "    print(f'{country}의 수도인 {capital}에는 {population}명의 인구가 거주중입니다')"
   ]
  },
  {
   "cell_type": "code",
   "execution_count": 14,
   "id": "12e749ab",
   "metadata": {},
   "outputs": [],
   "source": [
    "heros = []"
   ]
  },
  {
   "cell_type": "code",
   "execution_count": 15,
   "id": "c8a86d66",
   "metadata": {},
   "outputs": [],
   "source": [
    "heros.append(\"아이언맨\")"
   ]
  },
  {
   "cell_type": "code",
   "execution_count": 16,
   "id": "460c1bfe",
   "metadata": {},
   "outputs": [
    {
     "data": {
      "text/plain": [
       "['아이언맨']"
      ]
     },
     "execution_count": 16,
     "metadata": {},
     "output_type": "execute_result"
    }
   ],
   "source": [
    "heros"
   ]
  },
  {
   "cell_type": "code",
   "execution_count": 17,
   "id": "e8a9a95a",
   "metadata": {},
   "outputs": [],
   "source": [
    "heros.append(\"토르\")\n",
    "heros.append(\"헐크\")"
   ]
  },
  {
   "cell_type": "code",
   "execution_count": 18,
   "id": "ac2a9c93",
   "metadata": {},
   "outputs": [
    {
     "data": {
      "text/plain": [
       "['아이언맨', '토르', '헐크']"
      ]
     },
     "execution_count": 18,
     "metadata": {},
     "output_type": "execute_result"
    }
   ],
   "source": [
    "heros"
   ]
  },
  {
   "cell_type": "code",
   "execution_count": 19,
   "id": "f076b602",
   "metadata": {},
   "outputs": [],
   "source": [
    "heros.insert(1, \"스파이더맨\")"
   ]
  },
  {
   "cell_type": "code",
   "execution_count": 20,
   "id": "7ab4d07f",
   "metadata": {},
   "outputs": [
    {
     "data": {
      "text/plain": [
       "['아이언맨', '스파이더맨', '토르', '헐크']"
      ]
     },
     "execution_count": 20,
     "metadata": {},
     "output_type": "execute_result"
    }
   ],
   "source": [
    "heros"
   ]
  },
  {
   "cell_type": "code",
   "execution_count": 21,
   "id": "b5e66332",
   "metadata": {},
   "outputs": [
    {
     "data": {
      "text/plain": [
       "2"
      ]
     },
     "execution_count": 21,
     "metadata": {},
     "output_type": "execute_result"
    }
   ],
   "source": [
    "heros.index(\"토르\")"
   ]
  },
  {
   "cell_type": "code",
   "execution_count": 22,
   "id": "e6482f05",
   "metadata": {},
   "outputs": [
    {
     "ename": "ValueError",
     "evalue": "'캡틴 아메리카' is not in list",
     "output_type": "error",
     "traceback": [
      "\u001b[1;31m---------------------------------------------------------------------------\u001b[0m",
      "\u001b[1;31mValueError\u001b[0m                                Traceback (most recent call last)",
      "Cell \u001b[1;32mIn[22], line 1\u001b[0m\n\u001b[1;32m----> 1\u001b[0m \u001b[43mheros\u001b[49m\u001b[38;5;241;43m.\u001b[39;49m\u001b[43mindex\u001b[49m\u001b[43m(\u001b[49m\u001b[38;5;124;43m\"\u001b[39;49m\u001b[38;5;124;43m캡틴 아메리카\u001b[39;49m\u001b[38;5;124;43m\"\u001b[39;49m\u001b[43m)\u001b[49m\n",
      "\u001b[1;31mValueError\u001b[0m: '캡틴 아메리카' is not in list"
     ]
    }
   ],
   "source": [
    "heros.index(\"캡틴 아메리카\")"
   ]
  },
  {
   "cell_type": "code",
   "execution_count": 23,
   "id": "ba2307c7",
   "metadata": {},
   "outputs": [],
   "source": [
    "if \"캡틴 아메리카\" in heros:\n",
    "    print(\"캡틴 아메리카가 heros에 있음\")"
   ]
  },
  {
   "cell_type": "code",
   "execution_count": 24,
   "id": "9fbc1d75",
   "metadata": {},
   "outputs": [
    {
     "data": {
      "text/plain": [
       "['아이언맨', '스파이더맨', '토르', '헐크']"
      ]
     },
     "execution_count": 24,
     "metadata": {},
     "output_type": "execute_result"
    }
   ],
   "source": [
    "heros"
   ]
  },
  {
   "cell_type": "code",
   "execution_count": 25,
   "id": "804de957",
   "metadata": {},
   "outputs": [
    {
     "data": {
      "text/plain": [
       "'헐크'"
      ]
     },
     "execution_count": 25,
     "metadata": {},
     "output_type": "execute_result"
    }
   ],
   "source": [
    "heros.pop(3)"
   ]
  },
  {
   "cell_type": "code",
   "execution_count": 26,
   "id": "e70ebb72",
   "metadata": {},
   "outputs": [
    {
     "data": {
      "text/plain": [
       "['아이언맨', '스파이더맨', '토르']"
      ]
     },
     "execution_count": 26,
     "metadata": {},
     "output_type": "execute_result"
    }
   ],
   "source": [
    "heros"
   ]
  },
  {
   "cell_type": "code",
   "execution_count": 27,
   "id": "72f38bd5",
   "metadata": {},
   "outputs": [],
   "source": [
    "heros.remove(\"스파이더맨\")"
   ]
  },
  {
   "cell_type": "code",
   "execution_count": 28,
   "id": "671e8c82",
   "metadata": {},
   "outputs": [
    {
     "data": {
      "text/plain": [
       "['아이언맨', '토르']"
      ]
     },
     "execution_count": 28,
     "metadata": {},
     "output_type": "execute_result"
    }
   ],
   "source": [
    "heros"
   ]
  },
  {
   "cell_type": "code",
   "execution_count": 29,
   "id": "454ecdfe",
   "metadata": {},
   "outputs": [
    {
     "ename": "ValueError",
     "evalue": "list.remove(x): x not in list",
     "output_type": "error",
     "traceback": [
      "\u001b[1;31m---------------------------------------------------------------------------\u001b[0m",
      "\u001b[1;31mValueError\u001b[0m                                Traceback (most recent call last)",
      "Cell \u001b[1;32mIn[29], line 1\u001b[0m\n\u001b[1;32m----> 1\u001b[0m \u001b[43mheros\u001b[49m\u001b[38;5;241;43m.\u001b[39;49m\u001b[43mremove\u001b[49m\u001b[43m(\u001b[49m\u001b[38;5;124;43m\"\u001b[39;49m\u001b[38;5;124;43m배트맨\u001b[39;49m\u001b[38;5;124;43m\"\u001b[39;49m\u001b[43m)\u001b[49m\n",
      "\u001b[1;31mValueError\u001b[0m: list.remove(x): x not in list"
     ]
    }
   ],
   "source": [
    "heros.remove(\"배트맨\")"
   ]
  },
  {
   "cell_type": "code",
   "execution_count": 30,
   "id": "8e141382",
   "metadata": {},
   "outputs": [],
   "source": [
    "numbers = [123, 1234243, 325456546, 457245423, 431, 2435, 6547647, 32444]"
   ]
  },
  {
   "cell_type": "code",
   "execution_count": 31,
   "id": "140140f8",
   "metadata": {},
   "outputs": [
    {
     "data": {
      "text/plain": [
       "457245423"
      ]
     },
     "execution_count": 31,
     "metadata": {},
     "output_type": "execute_result"
    }
   ],
   "source": [
    "max(numbers)"
   ]
  },
  {
   "cell_type": "code",
   "execution_count": 32,
   "id": "8f341dfa",
   "metadata": {},
   "outputs": [
    {
     "data": {
      "text/plain": [
       "123"
      ]
     },
     "execution_count": 32,
     "metadata": {},
     "output_type": "execute_result"
    }
   ],
   "source": [
    "min(numbers)"
   ]
  },
  {
   "cell_type": "code",
   "execution_count": 34,
   "id": "6a18a167",
   "metadata": {},
   "outputs": [
    {
     "data": {
      "text/plain": [
       "790519292"
      ]
     },
     "execution_count": 34,
     "metadata": {},
     "output_type": "execute_result"
    }
   ],
   "source": [
    "sum(numbers)"
   ]
  },
  {
   "cell_type": "code",
   "execution_count": 35,
   "id": "fab9c589",
   "metadata": {},
   "outputs": [],
   "source": [
    "numbers.reverse()"
   ]
  },
  {
   "cell_type": "code",
   "execution_count": 36,
   "id": "0a61f258",
   "metadata": {},
   "outputs": [
    {
     "data": {
      "text/plain": [
       "[32444, 6547647, 2435, 431, 457245423, 325456546, 1234243, 123]"
      ]
     },
     "execution_count": 36,
     "metadata": {},
     "output_type": "execute_result"
    }
   ],
   "source": [
    "numbers"
   ]
  },
  {
   "cell_type": "code",
   "execution_count": 37,
   "id": "d0b289d7",
   "metadata": {},
   "outputs": [],
   "source": [
    "numbers.sort()"
   ]
  },
  {
   "cell_type": "code",
   "execution_count": 38,
   "id": "b286a015",
   "metadata": {},
   "outputs": [
    {
     "data": {
      "text/plain": [
       "[123, 431, 2435, 32444, 1234243, 6547647, 325456546, 457245423]"
      ]
     },
     "execution_count": 38,
     "metadata": {},
     "output_type": "execute_result"
    }
   ],
   "source": [
    "numbers"
   ]
  },
  {
   "cell_type": "code",
   "execution_count": 39,
   "id": "d7ba745b",
   "metadata": {},
   "outputs": [],
   "source": [
    "numbers.sort(reverse=True)"
   ]
  },
  {
   "cell_type": "code",
   "execution_count": 41,
   "id": "ec67e823",
   "metadata": {},
   "outputs": [
    {
     "data": {
      "text/plain": [
       "[457245423, 325456546, 6547647, 1234243, 32444, 2435, 431, 123]"
      ]
     },
     "execution_count": 41,
     "metadata": {},
     "output_type": "execute_result"
    }
   ],
   "source": [
    "numbers"
   ]
  },
  {
   "cell_type": "code",
   "execution_count": 42,
   "id": "dce21feb",
   "metadata": {},
   "outputs": [
    {
     "data": {
      "text/plain": [
       "[123, 431, 2435, 32444, 1234243, 6547647, 325456546, 457245423]"
      ]
     },
     "execution_count": 42,
     "metadata": {},
     "output_type": "execute_result"
    }
   ],
   "source": [
    "sorted(numbers)"
   ]
  },
  {
   "cell_type": "code",
   "execution_count": 45,
   "id": "540a58ac",
   "metadata": {},
   "outputs": [
    {
     "data": {
      "text/plain": [
       "1"
      ]
     },
     "execution_count": 45,
     "metadata": {},
     "output_type": "execute_result"
    }
   ],
   "source": [
    "data = ['A' ,'B', 'A', 'C', 'D', 'A', 'D', 'D', 'E']\n",
    "data.count('E')"
   ]
  },
  {
   "cell_type": "code",
   "execution_count": 50,
   "id": "9523a416",
   "metadata": {},
   "outputs": [],
   "source": [
    "# 실습\n",
    "scores = [94, 23, 42, 67, 88, 33, 57, 93, 99, 12]\n",
    "\n",
    "#scores.sort()\n",
    "#scores[-2]\n",
    "\n",
    "#scores.sort(reverse=True)\n",
    "#scores[1]\n",
    "\n",
    "#scores.remove(max(scores))\n",
    "#max(scores)"
   ]
  },
  {
   "cell_type": "code",
   "execution_count": 62,
   "id": "8c1641ef",
   "metadata": {},
   "outputs": [
    {
     "data": {
      "text/plain": [
       "['A', 'a', 'B', 'b', 'C', 'c', 'D', 'd', 'E', 'e']"
      ]
     },
     "execution_count": 62,
     "metadata": {},
     "output_type": "execute_result"
    }
   ],
   "source": [
    "numbers = [1,2,3,4,5,6,7,8,9,10]\n",
    "\n",
    "# [4,5,6]\n",
    "numbers[3:6]\n",
    "\n",
    "# [4,5,6,7,8,9,10]\n",
    "numbers[3:10]\n",
    "numbers[3:]\n",
    "\n",
    "# [2,4,6,8,10]\n",
    "numbers[1::2]\n",
    "\n",
    "# 짝수를 'a'... 로 수정\n",
    "numbers[1::2] = ['a', 'b', 'c', 'd', 'e']\n",
    "numbers\n",
    "\n",
    "# 홀수를 'A'... 로 수정\n",
    "numbers[::2] = ['A', 'B', 'C', 'D', 'E']\n",
    "numbers"
   ]
  },
  {
   "cell_type": "code",
   "execution_count": 70,
   "id": "c6ab8713",
   "metadata": {},
   "outputs": [
    {
     "data": {
      "text/plain": [
       "[2,\n",
       " 4,\n",
       " 6,\n",
       " 8,\n",
       " 10,\n",
       " 12,\n",
       " 14,\n",
       " 16,\n",
       " 18,\n",
       " 20,\n",
       " 22,\n",
       " 24,\n",
       " 26,\n",
       " 28,\n",
       " 30,\n",
       " 32,\n",
       " 34,\n",
       " 36,\n",
       " 38,\n",
       " 40,\n",
       " 42,\n",
       " 44,\n",
       " 46,\n",
       " 48,\n",
       " 50,\n",
       " 52,\n",
       " 54,\n",
       " 56,\n",
       " 58,\n",
       " 60,\n",
       " 62,\n",
       " 64,\n",
       " 66,\n",
       " 68,\n",
       " 70,\n",
       " 72,\n",
       " 74,\n",
       " 76,\n",
       " 78,\n",
       " 80,\n",
       " 82,\n",
       " 84,\n",
       " 86,\n",
       " 88,\n",
       " 90,\n",
       " 92,\n",
       " 94,\n",
       " 96,\n",
       " 98,\n",
       " 100]"
      ]
     },
     "execution_count": 70,
     "metadata": {},
     "output_type": "execute_result"
    }
   ],
   "source": [
    "numbers2 = list(range(1, 11))\n",
    "numbers2\n",
    "\n",
    "numbers3 = list(range(2, 101, 2))\n",
    "numbers3"
   ]
  },
  {
   "cell_type": "code",
   "execution_count": 74,
   "id": "9f78b8fe",
   "metadata": {},
   "outputs": [
    {
     "data": {
      "text/plain": [
       "7"
      ]
     },
     "execution_count": 74,
     "metadata": {},
     "output_type": "execute_result"
    }
   ],
   "source": [
    "h = [\n",
    "    [1,2,3],\n",
    "    [4,5,6],\n",
    "    [7,8,9]\n",
    "]\n",
    "h[2][0]"
   ]
  },
  {
   "cell_type": "code",
   "execution_count": 79,
   "id": "66a741ff",
   "metadata": {},
   "outputs": [
    {
     "name": "stdout",
     "output_type": "stream",
     "text": [
      "0: 철수\n",
      "1: 영희\n",
      "2: 민지\n"
     ]
    }
   ],
   "source": [
    "names = [\"철수\", \"영희\", \"민지\"]\n",
    "\n",
    "for i, n in enumerate(names):\n",
    "    print(f\"{i}: {n}\")"
   ]
  },
  {
   "cell_type": "markdown",
   "id": "3e8aec89",
   "metadata": {},
   "source": [
    "## tuple"
   ]
  },
  {
   "cell_type": "code",
   "execution_count": 107,
   "id": "c88da3f9",
   "metadata": {},
   "outputs": [
    {
     "data": {
      "text/plain": [
       "tuple"
      ]
     },
     "execution_count": 107,
     "metadata": {},
     "output_type": "execute_result"
    }
   ],
   "source": [
    "a = (\"apple\",)\n",
    "type(a)"
   ]
  },
  {
   "cell_type": "code",
   "execution_count": 82,
   "id": "eb604a4c",
   "metadata": {},
   "outputs": [
    {
     "data": {
      "text/plain": [
       "(('apple', 'banana', 'grape'), tuple)"
      ]
     },
     "execution_count": 82,
     "metadata": {},
     "output_type": "execute_result"
    }
   ],
   "source": [
    "fruits = ('apple', 'banana', 'grape')\n",
    "fruits, type(fruits)"
   ]
  },
  {
   "cell_type": "code",
   "execution_count": 83,
   "id": "7ffb5fc0",
   "metadata": {},
   "outputs": [
    {
     "data": {
      "text/plain": [
       "'apple'"
      ]
     },
     "execution_count": 83,
     "metadata": {},
     "output_type": "execute_result"
    }
   ],
   "source": [
    "fruits[0]"
   ]
  },
  {
   "cell_type": "code",
   "execution_count": 84,
   "id": "7e5f6f97",
   "metadata": {},
   "outputs": [
    {
     "ename": "TypeError",
     "evalue": "'tuple' object does not support item assignment",
     "output_type": "error",
     "traceback": [
      "\u001b[1;31m---------------------------------------------------------------------------\u001b[0m",
      "\u001b[1;31mTypeError\u001b[0m                                 Traceback (most recent call last)",
      "Cell \u001b[1;32mIn[84], line 1\u001b[0m\n\u001b[1;32m----> 1\u001b[0m \u001b[43mfruits\u001b[49m\u001b[43m[\u001b[49m\u001b[38;5;241;43m0\u001b[39;49m\u001b[43m]\u001b[49m \u001b[38;5;241m=\u001b[39m \u001b[38;5;124m'\u001b[39m\u001b[38;5;124mwatermelon\u001b[39m\u001b[38;5;124m'\u001b[39m\n",
      "\u001b[1;31mTypeError\u001b[0m: 'tuple' object does not support item assignment"
     ]
    }
   ],
   "source": [
    "fruits[0] = 'watermelon'"
   ]
  },
  {
   "cell_type": "code",
   "execution_count": 87,
   "id": "c04748cf",
   "metadata": {},
   "outputs": [],
   "source": [
    "fruits_list = list(fruits)\n",
    "fruits_list[0] = 'watermelon'\n",
    "fruits = tuple(fruits_list)"
   ]
  },
  {
   "cell_type": "code",
   "execution_count": 88,
   "id": "9246d21f",
   "metadata": {},
   "outputs": [
    {
     "data": {
      "text/plain": [
       "('watermelon', 'banana', 'grape')"
      ]
     },
     "execution_count": 88,
     "metadata": {},
     "output_type": "execute_result"
    }
   ],
   "source": [
    "fruits"
   ]
  },
  {
   "cell_type": "code",
   "execution_count": 89,
   "id": "635a45c0",
   "metadata": {},
   "outputs": [
    {
     "name": "stdout",
     "output_type": "stream",
     "text": [
      "a: watermelon\n",
      "b: banana\n",
      "c: grape\n"
     ]
    }
   ],
   "source": [
    "(a, b, c) = fruits\n",
    "print(f\"a: {a}\")\n",
    "print(f\"b: {b}\")\n",
    "print(f\"c: {c}\")"
   ]
  },
  {
   "cell_type": "code",
   "execution_count": 95,
   "id": "c4fb4e32",
   "metadata": {},
   "outputs": [
    {
     "name": "stdout",
     "output_type": "stream",
     "text": [
      "watermelon banana grape\n"
     ]
    }
   ],
   "source": [
    "[a, b, c] = list(fruits)\n",
    "print(a, b, c)"
   ]
  },
  {
   "cell_type": "markdown",
   "id": "9a30aec4",
   "metadata": {},
   "source": [
    "## 세트"
   ]
  },
  {
   "cell_type": "code",
   "execution_count": 96,
   "id": "988130a8",
   "metadata": {},
   "outputs": [],
   "source": [
    "alice_hobby = {\"축구\", \"농구\", \"야구\"}\n",
    "bob_hobby = {\"배구\",\"수영\",\"농구\"}"
   ]
  },
  {
   "cell_type": "code",
   "execution_count": 98,
   "id": "ee72c0a7",
   "metadata": {},
   "outputs": [
    {
     "data": {
      "text/plain": [
       "{'농구', '배구', '수영', '야구', '축구'}"
      ]
     },
     "execution_count": 98,
     "metadata": {},
     "output_type": "execute_result"
    }
   ],
   "source": [
    "alice_hobby | bob_hobby"
   ]
  },
  {
   "cell_type": "code",
   "execution_count": 99,
   "id": "fc140d64",
   "metadata": {},
   "outputs": [
    {
     "data": {
      "text/plain": [
       "{'농구', '배구', '수영', '야구', '축구'}"
      ]
     },
     "execution_count": 99,
     "metadata": {},
     "output_type": "execute_result"
    }
   ],
   "source": [
    "alice_hobby.union(bob_hobby)"
   ]
  },
  {
   "cell_type": "code",
   "execution_count": 100,
   "id": "1d13ead3",
   "metadata": {},
   "outputs": [
    {
     "data": {
      "text/plain": [
       "{'농구'}"
      ]
     },
     "execution_count": 100,
     "metadata": {},
     "output_type": "execute_result"
    }
   ],
   "source": [
    "alice_hobby & bob_hobby"
   ]
  },
  {
   "cell_type": "code",
   "execution_count": 101,
   "id": "6dc589ed",
   "metadata": {},
   "outputs": [
    {
     "data": {
      "text/plain": [
       "{'농구'}"
      ]
     },
     "execution_count": 101,
     "metadata": {},
     "output_type": "execute_result"
    }
   ],
   "source": [
    "alice_hobby.intersection(bob_hobby)"
   ]
  },
  {
   "cell_type": "code",
   "execution_count": 102,
   "id": "66e88995",
   "metadata": {},
   "outputs": [
    {
     "data": {
      "text/plain": [
       "{'야구', '축구'}"
      ]
     },
     "execution_count": 102,
     "metadata": {},
     "output_type": "execute_result"
    }
   ],
   "source": [
    "alice_hobby - bob_hobby"
   ]
  },
  {
   "cell_type": "code",
   "execution_count": 104,
   "id": "25e661e4",
   "metadata": {},
   "outputs": [
    {
     "data": {
      "text/plain": [
       "{'야구', '축구'}"
      ]
     },
     "execution_count": 104,
     "metadata": {},
     "output_type": "execute_result"
    }
   ],
   "source": [
    "alice_hobby.difference(bob_hobby)"
   ]
  },
  {
   "cell_type": "code",
   "execution_count": 105,
   "id": "66d1f819",
   "metadata": {},
   "outputs": [
    {
     "data": {
      "text/plain": [
       "{'A', 'B', 'C', 'D'}"
      ]
     },
     "execution_count": 105,
     "metadata": {},
     "output_type": "execute_result"
    }
   ],
   "source": [
    "s = set([\"A\", \"B\", \"C\", \"D\", \"A\"])\n",
    "s"
   ]
  },
  {
   "cell_type": "markdown",
   "id": "a48b7f4d",
   "metadata": {},
   "source": [
    "## 딕셔너리"
   ]
  },
  {
   "cell_type": "code",
   "execution_count": 109,
   "id": "40326167",
   "metadata": {},
   "outputs": [
    {
     "data": {
      "text/plain": [
       "{}"
      ]
     },
     "execution_count": 109,
     "metadata": {},
     "output_type": "execute_result"
    }
   ],
   "source": [
    "user = {}\n",
    "user"
   ]
  },
  {
   "cell_type": "code",
   "execution_count": 110,
   "id": "5fef40e1",
   "metadata": {},
   "outputs": [
    {
     "data": {
      "text/plain": [
       "{'이름': '홍길동', '나이': 22, '성별': '남자', '기술': ['파이썬', '데이터베이스'], '군대': True}"
      ]
     },
     "execution_count": 110,
     "metadata": {},
     "output_type": "execute_result"
    }
   ],
   "source": [
    "user = {\n",
    "    \"이름\": \"홍길동\",\n",
    "    \"나이\": 22,\n",
    "    \"성별\": \"남자\",\n",
    "    \"기술\": [\"파이썬\", \"데이터베이스\"],\n",
    "    \"군대\": True\n",
    "}\n",
    "user"
   ]
  },
  {
   "cell_type": "code",
   "execution_count": 111,
   "id": "a98a750c",
   "metadata": {},
   "outputs": [
    {
     "data": {
      "text/plain": [
       "'홍길동'"
      ]
     },
     "execution_count": 111,
     "metadata": {},
     "output_type": "execute_result"
    }
   ],
   "source": [
    "user[\"이름\"]"
   ]
  },
  {
   "cell_type": "code",
   "execution_count": 113,
   "id": "b9cd0284",
   "metadata": {},
   "outputs": [
    {
     "data": {
      "text/plain": [
       "['파이썬', '데이터베이스']"
      ]
     },
     "execution_count": 113,
     "metadata": {},
     "output_type": "execute_result"
    }
   ],
   "source": [
    "user[\"기술\"]"
   ]
  },
  {
   "cell_type": "code",
   "execution_count": 114,
   "id": "23edf27d",
   "metadata": {},
   "outputs": [
    {
     "ename": "KeyError",
     "evalue": "'체중'",
     "output_type": "error",
     "traceback": [
      "\u001b[1;31m---------------------------------------------------------------------------\u001b[0m",
      "\u001b[1;31mKeyError\u001b[0m                                  Traceback (most recent call last)",
      "Cell \u001b[1;32mIn[114], line 1\u001b[0m\n\u001b[1;32m----> 1\u001b[0m \u001b[43muser\u001b[49m\u001b[43m[\u001b[49m\u001b[38;5;124;43m\"\u001b[39;49m\u001b[38;5;124;43m체중\u001b[39;49m\u001b[38;5;124;43m\"\u001b[39;49m\u001b[43m]\u001b[49m\n",
      "\u001b[1;31mKeyError\u001b[0m: '체중'"
     ]
    }
   ],
   "source": [
    "user[\"체중\"]"
   ]
  },
  {
   "cell_type": "code",
   "execution_count": 116,
   "id": "91d33d3f",
   "metadata": {},
   "outputs": [
    {
     "data": {
      "text/plain": [
       "'70kg'"
      ]
     },
     "execution_count": 116,
     "metadata": {},
     "output_type": "execute_result"
    }
   ],
   "source": [
    "user.get(\"체중\", \"70kg\")"
   ]
  },
  {
   "cell_type": "code",
   "execution_count": 117,
   "id": "824cbede",
   "metadata": {},
   "outputs": [
    {
     "data": {
      "text/plain": [
       "'홍길동'"
      ]
     },
     "execution_count": 117,
     "metadata": {},
     "output_type": "execute_result"
    }
   ],
   "source": [
    "user.get(\"이름\", \"아이언맨\")"
   ]
  },
  {
   "cell_type": "code",
   "execution_count": 118,
   "id": "994b1494",
   "metadata": {},
   "outputs": [
    {
     "data": {
      "text/plain": [
       "{'이름': '홍길동', '나이': 22, '성별': '남자', '기술': ['파이썬', '데이터베이스'], '군대': True}"
      ]
     },
     "execution_count": 118,
     "metadata": {},
     "output_type": "execute_result"
    }
   ],
   "source": [
    "user"
   ]
  },
  {
   "cell_type": "code",
   "execution_count": 119,
   "id": "f99d3fd5",
   "metadata": {},
   "outputs": [],
   "source": [
    "user[\"체중\"] = \"80kg\""
   ]
  },
  {
   "cell_type": "code",
   "execution_count": 120,
   "id": "1ee82166",
   "metadata": {},
   "outputs": [
    {
     "data": {
      "text/plain": [
       "{'이름': '홍길동',\n",
       " '나이': 22,\n",
       " '성별': '남자',\n",
       " '기술': ['파이썬', '데이터베이스'],\n",
       " '군대': True,\n",
       " '체중': '80kg'}"
      ]
     },
     "execution_count": 120,
     "metadata": {},
     "output_type": "execute_result"
    }
   ],
   "source": [
    "user"
   ]
  },
  {
   "cell_type": "code",
   "execution_count": 121,
   "id": "3cb9744d",
   "metadata": {},
   "outputs": [
    {
     "data": {
      "text/plain": [
       "{'이름': '홍길동', '나이': 22, '기술': ['파이썬', '데이터베이스'], '군대': True, '체중': '80kg'}"
      ]
     },
     "execution_count": 121,
     "metadata": {},
     "output_type": "execute_result"
    }
   ],
   "source": [
    "user.pop(\"성별\")\n",
    "user"
   ]
  },
  {
   "cell_type": "code",
   "execution_count": 122,
   "id": "bbd9332c",
   "metadata": {},
   "outputs": [
    {
     "ename": "KeyError",
     "evalue": "'키'",
     "output_type": "error",
     "traceback": [
      "\u001b[1;31m---------------------------------------------------------------------------\u001b[0m",
      "\u001b[1;31mKeyError\u001b[0m                                  Traceback (most recent call last)",
      "Cell \u001b[1;32mIn[122], line 1\u001b[0m\n\u001b[1;32m----> 1\u001b[0m \u001b[43muser\u001b[49m\u001b[38;5;241;43m.\u001b[39;49m\u001b[43mpop\u001b[49m\u001b[43m(\u001b[49m\u001b[38;5;124;43m\"\u001b[39;49m\u001b[38;5;124;43m키\u001b[39;49m\u001b[38;5;124;43m\"\u001b[39;49m\u001b[43m)\u001b[49m\n",
      "\u001b[1;31mKeyError\u001b[0m: '키'"
     ]
    }
   ],
   "source": [
    "user.pop(\"키\") # if \"키\" in user"
   ]
  },
  {
   "cell_type": "code",
   "execution_count": 123,
   "id": "c418dcea",
   "metadata": {},
   "outputs": [
    {
     "data": {
      "text/plain": [
       "{'이름': '홍길동', '나이': 22, '기술': ['파이썬', '데이터베이스'], '군대': True, '체중': '80kg'}"
      ]
     },
     "execution_count": 123,
     "metadata": {},
     "output_type": "execute_result"
    }
   ],
   "source": [
    "user"
   ]
  },
  {
   "cell_type": "code",
   "execution_count": 124,
   "id": "32ebb16c",
   "metadata": {},
   "outputs": [
    {
     "name": "stdout",
     "output_type": "stream",
     "text": [
      "이름\n",
      "나이\n",
      "기술\n",
      "군대\n",
      "체중\n"
     ]
    }
   ],
   "source": [
    "for key in user:\n",
    "    print(key)"
   ]
  },
  {
   "cell_type": "code",
   "execution_count": 125,
   "id": "073907ea",
   "metadata": {},
   "outputs": [
    {
     "data": {
      "text/plain": [
       "dict_keys(['이름', '나이', '기술', '군대', '체중'])"
      ]
     },
     "execution_count": 125,
     "metadata": {},
     "output_type": "execute_result"
    }
   ],
   "source": [
    "user.keys()"
   ]
  },
  {
   "cell_type": "code",
   "execution_count": 126,
   "id": "08f6e6ca",
   "metadata": {},
   "outputs": [
    {
     "data": {
      "text/plain": [
       "dict_values(['홍길동', 22, ['파이썬', '데이터베이스'], True, '80kg'])"
      ]
     },
     "execution_count": 126,
     "metadata": {},
     "output_type": "execute_result"
    }
   ],
   "source": [
    "user.values()"
   ]
  },
  {
   "cell_type": "code",
   "execution_count": 129,
   "id": "924e26d0",
   "metadata": {},
   "outputs": [
    {
     "name": "stdout",
     "output_type": "stream",
     "text": [
      "k: 이름, v: 홍길동\n",
      "k: 나이, v: 22\n",
      "k: 기술, v: ['파이썬', '데이터베이스']\n",
      "k: 군대, v: True\n",
      "k: 체중, v: 80kg\n"
     ]
    }
   ],
   "source": [
    "for k, v in user.items():\n",
    "    print(f\"k: {k}, v: {v}\")"
   ]
  },
  {
   "cell_type": "code",
   "execution_count": null,
   "id": "66ebcc4e",
   "metadata": {},
   "outputs": [],
   "source": []
  }
 ],
 "metadata": {
  "kernelspec": {
   "display_name": "Python 3 (ipykernel)",
   "language": "python",
   "name": "python3"
  },
  "language_info": {
   "codemirror_mode": {
    "name": "ipython",
    "version": 3
   },
   "file_extension": ".py",
   "mimetype": "text/x-python",
   "name": "python",
   "nbconvert_exporter": "python",
   "pygments_lexer": "ipython3",
   "version": "3.11.3"
  }
 },
 "nbformat": 4,
 "nbformat_minor": 5
}
