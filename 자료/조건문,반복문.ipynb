{
 "cells": [
  {
   "cell_type": "markdown",
   "id": "8abe5e4b",
   "metadata": {},
   "source": [
    "## 조건문\n",
    "```\n",
    "if 조건식1:\n",
    "   #실행로직1\n",
    "elif 조건식2:\n",
    "   #실행로직2\n",
    "else:\n",
    "   #실행로직3\n",
    "```"
   ]
  },
  {
   "cell_type": "code",
   "execution_count": 6,
   "id": "c3ca63b2",
   "metadata": {},
   "outputs": [
    {
     "name": "stdout",
     "output_type": "stream",
     "text": [
      "택시타자\n"
     ]
    }
   ],
   "source": [
    "money = 17000\n",
    "\n",
    "if money > 15000:\n",
    "    print(\"택시타자\")\n",
    "else:\n",
    "    print(\"버스타자\")"
   ]
  },
  {
   "cell_type": "raw",
   "id": "92d9cbee",
   "metadata": {},
   "source": [
    "# 실습\n",
    "'''\n",
    "- 사용자에게 출생년도입력\n",
    " \n",
    " ~1924 가장 위대한 세대\n",
    " 1925~1945 침묵세대\n",
    " 1946~1964 베이비붐 세대\n",
    " 1965~1980 X 세대\n",
    " 1981~1996 밀레니얼 세대\n",
    " 1997 ~ Z 세대\n",
    " \n",
    "출력\n",
    " - 나는 {}년에 태어나 {} 세대에 속합니다\n",
    "'''"
   ]
  },
  {
   "cell_type": "code",
   "execution_count": 12,
   "id": "2d5bc870",
   "metadata": {},
   "outputs": [
    {
     "name": "stdout",
     "output_type": "stream",
     "text": [
      "출생년도를 입력해주세요: 1988\n",
      "나는 1988년에 태어나 밀레니얼 세대에 속합니다. \n"
     ]
    }
   ],
   "source": [
    "year = int(input(\"출생년도를 입력해주세요: \"))\n",
    "\n",
    "generation = \"\"\n",
    "\n",
    "if year <= 1924:\n",
    "    generation = \"가장 위대한 세대\"\n",
    "elif 1925 <= year <= 1945:\n",
    "    generation = \"침묵세대\"\n",
    "elif 1946 <= year <= 1964:\n",
    "    generation = \"베이비붐 세대\"\n",
    "elif 1965 <= year <= 1980:\n",
    "    generation = \"X 세대\"\n",
    "elif 1981 <= year <= 1996:\n",
    "    generation = \"밀레니얼 세대\"\n",
    "elif 1997 <= year:\n",
    "    generation = \"Z 세대\"\n",
    "    \n",
    "print(f\"나는 {year}년에 태어나 {generation}에 속합니다. \")"
   ]
  },
  {
   "cell_type": "code",
   "execution_count": 13,
   "id": "c2c8db13",
   "metadata": {},
   "outputs": [],
   "source": [
    "# 실습\n",
    "\n",
    "# - 상품 금액 및 결제 카드를 입력\n",
    "# - 상품 금액이 20000 초과이고 현대 카드이면 배송비 3000\n",
    "# - 상품 금액이 50000 초과이거나 신한 카드이면 배송비 2000\n",
    "# - 그 외 배송비 5000\n",
    "# - 최종적으로 상품 금액과 전체 결제 금액 출력"
   ]
  },
  {
   "cell_type": "code",
   "execution_count": 18,
   "id": "36de1d67",
   "metadata": {},
   "outputs": [
    {
     "name": "stdout",
     "output_type": "stream",
     "text": [
      "상품 가격 입력:10000\n",
      "결제 카드 입력:롯데\n",
      "10000, 15000\n"
     ]
    }
   ],
   "source": [
    "price = int(input(\"상품 가격 입력:\"))\n",
    "card = input(\"결제 카드 입력:\")\n",
    "\n",
    "total = price\n",
    "\n",
    "if price > 20000 and card == \"현대\":\n",
    "    total += 3000\n",
    "elif price > 50000 or card == \"신한\":\n",
    "    total += 2000\n",
    "else:\n",
    "    total += 5000\n",
    "    \n",
    "print(f\"{price}, {total}\")\n",
    "\n"
   ]
  },
  {
   "cell_type": "code",
   "execution_count": 19,
   "id": "91a651a4",
   "metadata": {},
   "outputs": [],
   "source": [
    "# 실습 (윤년 판단)\n",
    "\n",
    "# - 연도 입력 받기\n",
    "# - 윤년은 4로 나누어 떨어지는 해 중에서 100으로 나누어 떨어지지않거나 \n",
    "# - 400으로 나누어 떨어지는 해 입니다.\n",
    "\n",
    "# - 출력 \n",
    "#연도를 입력하세요: 2001\n",
    "#2001년은 윤년이 아닙니다."
   ]
  },
  {
   "cell_type": "code",
   "execution_count": 23,
   "id": "5401d329",
   "metadata": {},
   "outputs": [
    {
     "name": "stdout",
     "output_type": "stream",
     "text": [
      "연도를 입력하세요: 2001\n",
      "2001는 윤년아니다\n"
     ]
    }
   ],
   "source": [
    "year = int(input(\"연도를 입력하세요: \"))\n",
    "\n",
    "if (year % 4 == 0 and year % 100 != 0) or year % 400 == 0:\n",
    "    print(f\"{year}는 윤년이다\")\n",
    "else:\n",
    "    print(f\"{year}는 윤년아니다\")"
   ]
  },
  {
   "cell_type": "markdown",
   "id": "52f4120e",
   "metadata": {},
   "source": [
    "# 반복문\n",
    "\n",
    "- 횟수 for문\n",
    "\n",
    "for [] in []:\n",
    "   // 실행로직\n",
    "   \n",
    "- 조건 while문\n",
    "\n",
    "while 조건문:\n",
    "  // 실행로직"
   ]
  },
  {
   "cell_type": "code",
   "execution_count": 25,
   "id": "796cda27",
   "metadata": {},
   "outputs": [
    {
     "name": "stdout",
     "output_type": "stream",
     "text": [
      "2\n",
      "4\n",
      "6\n",
      "8\n",
      "10\n",
      "12\n",
      "14\n",
      "16\n",
      "18\n",
      "20\n"
     ]
    }
   ],
   "source": [
    "for i in range(1, 11):\n",
    "    print(i * 2)"
   ]
  },
  {
   "cell_type": "code",
   "execution_count": 26,
   "id": "3bd8e3bd",
   "metadata": {},
   "outputs": [
    {
     "name": "stdout",
     "output_type": "stream",
     "text": [
      "A\n",
      "B\n",
      "C\n",
      "D\n"
     ]
    }
   ],
   "source": [
    "data = [\"A\", \"B\", \"C\", \"D\"]\n",
    "\n",
    "for d in data:\n",
    "    print(d)"
   ]
  },
  {
   "cell_type": "code",
   "execution_count": 27,
   "id": "511a53f5",
   "metadata": {},
   "outputs": [],
   "source": [
    "# 실습\n",
    "\n",
    "# 구구단\n",
    "# - 몇단을 입력받고\n",
    "# - 구구단 진행"
   ]
  },
  {
   "cell_type": "code",
   "execution_count": 29,
   "id": "14a1525d",
   "metadata": {},
   "outputs": [
    {
     "name": "stdout",
     "output_type": "stream",
     "text": [
      "구구단을 외자~ 몇단?17\n",
      "17 x 1 = 17\n",
      "17 x 2 = 34\n",
      "17 x 3 = 51\n",
      "17 x 4 = 68\n",
      "17 x 5 = 85\n",
      "17 x 6 = 102\n",
      "17 x 7 = 119\n",
      "17 x 8 = 136\n",
      "17 x 9 = 153\n"
     ]
    }
   ],
   "source": [
    "num = int(input(\"구구단을 외자~ 몇단?\"))\n",
    "\n",
    "for i in range(1, 10):\n",
    "    print(f\"{num} x {i} = {num * i}\")"
   ]
  },
  {
   "cell_type": "code",
   "execution_count": 1,
   "id": "04cb40f3",
   "metadata": {},
   "outputs": [
    {
     "name": "stdout",
     "output_type": "stream",
     "text": [
      "구구단을 외자~ 몇단?3\n",
      "3 * 1 = 3\n",
      "3 * 2 = 6\n",
      "3 * 3 = 9\n",
      "3 * 4 = 12\n",
      "3 * 6 = 18\n",
      "3 * 7 = 21\n",
      "3 * 8 = 24\n",
      "3 * 9 = 27\n"
     ]
    }
   ],
   "source": [
    "num = int(input(\"구구단을 외자~ 몇단?\"))\n",
    "\n",
    "#i = 1\n",
    "\n",
    "#while i < 10:\n",
    "#    print(f\"{num} * {i} = {num*i}\")\n",
    "#    i += 1\n",
    " \n",
    "i = 0\n",
    "while True:\n",
    "    i += 1\n",
    "    if i == 10:\n",
    "        break\n",
    "\n",
    "    if i == 5:\n",
    "        continue\n",
    "        \n",
    "    print(f\"{num} * {i} = {num*i}\") \n"
   ]
  },
  {
   "cell_type": "code",
   "execution_count": 6,
   "id": "375a419a",
   "metadata": {},
   "outputs": [
    {
     "data": {
      "text/plain": [
       "1683"
      ]
     },
     "execution_count": 6,
     "metadata": {},
     "output_type": "execute_result"
    }
   ],
   "source": [
    "# 1부터 100까지 3의 배수의 합\n",
    "\n",
    "# sum(list(range(3, 101, 3)))\n",
    "\n",
    "sum3 = 0\n",
    "\n",
    "for n in range(1, 101):\n",
    "    if n % 3 == 0:\n",
    "        sum3 += n\n",
    "        \n",
    "sum3"
   ]
  },
  {
   "cell_type": "code",
   "execution_count": 7,
   "id": "f7b7509f",
   "metadata": {},
   "outputs": [],
   "source": [
    "#  1 또는 2 입력받고\n",
    "\n",
    "# 0 이면 아무것도 출력하지않고 중단\n",
    "# 1 이면 '성공' 출력하고 계속(다시 입력받기)\n",
    "# 2 이면 계속(다시 입력받기)"
   ]
  },
  {
   "cell_type": "code",
   "execution_count": 8,
   "id": "9fd24488",
   "metadata": {},
   "outputs": [
    {
     "name": "stdout",
     "output_type": "stream",
     "text": [
      "숫자 골라요2\n",
      "숫자 골라요1\n",
      "성공\n",
      "숫자 골라요0\n"
     ]
    }
   ],
   "source": [
    "\n",
    "while True:\n",
    "    n = int(input(\"숫자 골라요\"))\n",
    "    \n",
    "    if n == 0:\n",
    "        break\n",
    "    \n",
    "    elif n == 1:\n",
    "        print(\"성공\")\n",
    "    \n",
    "    elif n == 2:\n",
    "        continue\n"
   ]
  },
  {
   "cell_type": "code",
   "execution_count": 9,
   "id": "f7dc5059",
   "metadata": {},
   "outputs": [
    {
     "data": {
      "text/plain": [
       "['a', 'b', 'c']"
      ]
     },
     "execution_count": 9,
     "metadata": {},
     "output_type": "execute_result"
    }
   ],
   "source": [
    "*a, d = ('a', 'b', 'c', 'd')\n",
    "a"
   ]
  },
  {
   "cell_type": "code",
   "execution_count": 17,
   "id": "7260c37f",
   "metadata": {},
   "outputs": [],
   "source": [
    "a, b, *c = ('가', '나', '다','라', '미')"
   ]
  },
  {
   "cell_type": "code",
   "execution_count": 18,
   "id": "49e19fbb",
   "metadata": {},
   "outputs": [
    {
     "data": {
      "text/plain": [
       "'가'"
      ]
     },
     "execution_count": 18,
     "metadata": {},
     "output_type": "execute_result"
    }
   ],
   "source": []
  },
  {
   "cell_type": "code",
   "execution_count": null,
   "id": "42d19038",
   "metadata": {},
   "outputs": [],
   "source": []
  }
 ],
 "metadata": {
  "kernelspec": {
   "display_name": "Python 3 (ipykernel)",
   "language": "python",
   "name": "python3"
  },
  "language_info": {
   "codemirror_mode": {
    "name": "ipython",
    "version": 3
   },
   "file_extension": ".py",
   "mimetype": "text/x-python",
   "name": "python",
   "nbconvert_exporter": "python",
   "pygments_lexer": "ipython3",
   "version": "3.11.3"
  }
 },
 "nbformat": 4,
 "nbformat_minor": 5
}
