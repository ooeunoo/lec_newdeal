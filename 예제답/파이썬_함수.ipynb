{
 "cells": [
  {
   "cell_type": "markdown",
   "metadata": {
    "id": "bZKGkTFENJX2"
   },
   "source": [
    "01 \n",
    "\n",
    "\"뉴딜\" 문자열을 화면에 출력하는 print_new() 함수를 정의하라."
   ]
  },
  {
   "cell_type": "code",
   "execution_count": 1,
   "metadata": {
    "id": "AEBlty-UNImm"
   },
   "outputs": [],
   "source": [
    "def print_new():\n",
    "    print(\"뉴딜\")"
   ]
  },
  {
   "cell_type": "markdown",
   "metadata": {
    "id": "9Fno-FRnNQcX"
   },
   "source": [
    "02\n",
    "\n",
    "01번에서 정의한 함수를 호출하라."
   ]
  },
  {
   "cell_type": "code",
   "execution_count": 2,
   "metadata": {
    "id": "ho11AW3cNTrD"
   },
   "outputs": [
    {
     "name": "stdout",
     "output_type": "stream",
     "text": [
      "뉴딜\n"
     ]
    }
   ],
   "source": [
    "print_new()"
   ]
  },
  {
   "cell_type": "markdown",
   "metadata": {
    "id": "DmXnZifVNUdH"
   },
   "source": [
    "03\n",
    "\n",
    "01번에서 정의한 print_new 함수를 100번호출하라."
   ]
  },
  {
   "cell_type": "code",
   "execution_count": 4,
   "metadata": {
    "id": "pFTuFNWYNdxZ"
   },
   "outputs": [
    {
     "name": "stdout",
     "output_type": "stream",
     "text": [
      "뉴딜\n",
      "뉴딜\n",
      "뉴딜\n",
      "뉴딜\n",
      "뉴딜\n",
      "뉴딜\n",
      "뉴딜\n",
      "뉴딜\n",
      "뉴딜\n",
      "뉴딜\n",
      "뉴딜\n",
      "뉴딜\n",
      "뉴딜\n",
      "뉴딜\n",
      "뉴딜\n",
      "뉴딜\n",
      "뉴딜\n",
      "뉴딜\n",
      "뉴딜\n",
      "뉴딜\n",
      "뉴딜\n",
      "뉴딜\n",
      "뉴딜\n",
      "뉴딜\n",
      "뉴딜\n",
      "뉴딜\n",
      "뉴딜\n",
      "뉴딜\n",
      "뉴딜\n",
      "뉴딜\n",
      "뉴딜\n",
      "뉴딜\n",
      "뉴딜\n",
      "뉴딜\n",
      "뉴딜\n",
      "뉴딜\n",
      "뉴딜\n",
      "뉴딜\n",
      "뉴딜\n",
      "뉴딜\n",
      "뉴딜\n",
      "뉴딜\n",
      "뉴딜\n",
      "뉴딜\n",
      "뉴딜\n",
      "뉴딜\n",
      "뉴딜\n",
      "뉴딜\n",
      "뉴딜\n",
      "뉴딜\n",
      "뉴딜\n",
      "뉴딜\n",
      "뉴딜\n",
      "뉴딜\n",
      "뉴딜\n",
      "뉴딜\n",
      "뉴딜\n",
      "뉴딜\n",
      "뉴딜\n",
      "뉴딜\n",
      "뉴딜\n",
      "뉴딜\n",
      "뉴딜\n",
      "뉴딜\n",
      "뉴딜\n",
      "뉴딜\n",
      "뉴딜\n",
      "뉴딜\n",
      "뉴딜\n",
      "뉴딜\n",
      "뉴딜\n",
      "뉴딜\n",
      "뉴딜\n",
      "뉴딜\n",
      "뉴딜\n",
      "뉴딜\n",
      "뉴딜\n",
      "뉴딜\n",
      "뉴딜\n",
      "뉴딜\n",
      "뉴딜\n",
      "뉴딜\n",
      "뉴딜\n",
      "뉴딜\n",
      "뉴딜\n",
      "뉴딜\n",
      "뉴딜\n",
      "뉴딜\n",
      "뉴딜\n",
      "뉴딜\n",
      "뉴딜\n",
      "뉴딜\n",
      "뉴딜\n",
      "뉴딜\n",
      "뉴딜\n",
      "뉴딜\n",
      "뉴딜\n",
      "뉴딜\n",
      "뉴딜\n",
      "뉴딜\n"
     ]
    }
   ],
   "source": [
    "for i in range(100):\n",
    "    print_new()"
   ]
  },
  {
   "cell_type": "markdown",
   "metadata": {
    "id": "pZ9O4RqqNd_h"
   },
   "source": [
    "04\n",
    "\n",
    "\"뉴딜\" 문자열을 100번 화면에 출력하는 new_prints() 함수를 정의하라."
   ]
  },
  {
   "cell_type": "code",
   "execution_count": 5,
   "metadata": {
    "id": "gsMsYYzGPBNG"
   },
   "outputs": [],
   "source": [
    "def new_prints():\n",
    "    for i in range(100):\n",
    "        print_new()"
   ]
  },
  {
   "cell_type": "markdown",
   "metadata": {
    "id": "Rihgf7vdPOP9"
   },
   "source": [
    "05\n",
    "\n",
    "아래의 에러가 발생하는 이유에 대해 설명하라.\n",
    "\n",
    "```\n",
    "hello()\n",
    "def hello():\n",
    "    print(\"Hi\")\n",
    "```\n",
    "\n",
    "실행 예\n",
    "```\n",
    "NameError: name 'hello' is not defined\n",
    "```\n"
   ]
  },
  {
   "cell_type": "code",
   "execution_count": 6,
   "metadata": {
    "id": "BCF_iIVwPWfp"
   },
   "outputs": [],
   "source": [
    "# 호출부가 선언부보다 위에 있음"
   ]
  },
  {
   "cell_type": "markdown",
   "metadata": {
    "id": "GuAAXOCAParp"
   },
   "source": [
    "06\n",
    "\n",
    "아래 코드의 실행 결과를 예측하라.\n",
    "\n",
    "```\n",
    "def message() :\n",
    "    print(\"A\")\n",
    "    print(\"B\")\n",
    "\n",
    "message()\n",
    "print(\"C\")\n",
    "message()\n",
    "```"
   ]
  },
  {
   "cell_type": "code",
   "execution_count": 7,
   "metadata": {
    "id": "FLsz-2t4PenB"
   },
   "outputs": [
    {
     "name": "stdout",
     "output_type": "stream",
     "text": [
      "A\n",
      "B\n",
      "C\n",
      "A\n",
      "B\n"
     ]
    }
   ],
   "source": [
    "def message() :\n",
    "    print(\"A\")\n",
    "    print(\"B\")\n",
    "\n",
    "message()\n",
    "print(\"C\")\n",
    "message()"
   ]
  },
  {
   "cell_type": "markdown",
   "metadata": {
    "id": "04sl6tQyPiaZ"
   },
   "source": [
    "07\n",
    "\n",
    "아래 코드의 실행 결과를 예측하라. (읽기 어려운 코드의 예입니다.)\n",
    "\n",
    "```\n",
    "print(\"A\")\n",
    "\n",
    "def message() :\n",
    "    print(\"B\")\n",
    "\n",
    "print(\"C\")\n",
    "message()\n",
    "```"
   ]
  },
  {
   "cell_type": "code",
   "execution_count": 8,
   "metadata": {
    "id": "JKVk2Aw2PmTw"
   },
   "outputs": [
    {
     "name": "stdout",
     "output_type": "stream",
     "text": [
      "A\n",
      "C\n",
      "B\n"
     ]
    }
   ],
   "source": [
    "print(\"A\")\n",
    "\n",
    "def message() :\n",
    "    print(\"B\")\n",
    "\n",
    "print(\"C\")\n",
    "message()"
   ]
  },
  {
   "cell_type": "markdown",
   "metadata": {
    "id": "-0Urje6bPm9P"
   },
   "source": [
    "08\n",
    "\n",
    "아래 코드의 실행 결과를 예측하라. (읽기 어려운 코드의 예입니다.)\n",
    "```\n",
    "print(\"A\")\n",
    "def message1() :\n",
    "    print(\"B\")\n",
    "print(\"C\")\n",
    "def message2() :\n",
    "    print(\"D\")\n",
    "message1()\n",
    "print(\"E\")\n",
    "message2()\n",
    "```"
   ]
  },
  {
   "cell_type": "code",
   "execution_count": 9,
   "metadata": {
    "id": "quw5X00dPq1Q"
   },
   "outputs": [
    {
     "name": "stdout",
     "output_type": "stream",
     "text": [
      "A\n",
      "C\n",
      "B\n",
      "E\n",
      "D\n"
     ]
    }
   ],
   "source": [
    "print(\"A\")\n",
    "def message1() :\n",
    "    print(\"B\")\n",
    "print(\"C\")\n",
    "def message2() :\n",
    "    print(\"D\")\n",
    "message1()\n",
    "print(\"E\")\n",
    "message2()"
   ]
  },
  {
   "cell_type": "markdown",
   "metadata": {
    "id": "pwMD3-S4PrTk"
   },
   "source": [
    "09\n",
    "\n",
    "아래 코드의 실행 결과를 예측하라.\n",
    "\n",
    "```\n",
    "def message1():\n",
    "    print(\"A\")\n",
    "\n",
    "def message2():\n",
    "    print(\"B\")\n",
    "    message1()\n",
    "\n",
    "message2()\n",
    "```"
   ]
  },
  {
   "cell_type": "code",
   "execution_count": 10,
   "metadata": {
    "id": "De-PwqqwP0RQ"
   },
   "outputs": [
    {
     "name": "stdout",
     "output_type": "stream",
     "text": [
      "B\n",
      "A\n"
     ]
    }
   ],
   "source": [
    "def message1():\n",
    "    print(\"A\")\n",
    "\n",
    "def message2():\n",
    "    print(\"B\")\n",
    "    message1()\n",
    "\n",
    "message2()"
   ]
  },
  {
   "cell_type": "markdown",
   "metadata": {
    "id": "Uk2oLx17P2s7"
   },
   "source": [
    "10\n",
    "\n",
    "아래 코드의 실행 결과를 예측하라.\n",
    "\n",
    "```\n",
    "def message1():\n",
    "    print(\"A\")\n",
    "\n",
    "def message2():\n",
    "    print(\"B\")\n",
    "\n",
    "def message3():\n",
    "    for i in range (3) :\n",
    "        message2()\n",
    "        print(\"C\")\n",
    "    message1()\n",
    "\n",
    "message3()\n",
    "\n",
    "```"
   ]
  },
  {
   "cell_type": "code",
   "execution_count": 11,
   "metadata": {
    "id": "OrspRUSxP6IY"
   },
   "outputs": [
    {
     "name": "stdout",
     "output_type": "stream",
     "text": [
      "B\n",
      "C\n",
      "B\n",
      "C\n",
      "B\n",
      "C\n",
      "A\n"
     ]
    }
   ],
   "source": [
    "def message1():\n",
    "    print(\"A\")\n",
    "\n",
    "def message2():\n",
    "    print(\"B\")\n",
    "\n",
    "def message3():\n",
    "    for i in range (3) :\n",
    "        message2()\n",
    "        print(\"C\")\n",
    "    message1()\n",
    "\n",
    "message3()"
   ]
  },
  {
   "cell_type": "markdown",
   "metadata": {
    "id": "AvWbaDMAP6nI"
   },
   "source": [
    "11\n",
    "\n",
    "\n",
    "함수의 호출 결과를 예측하라.\n",
    "```\n",
    "def 함수(문자열) :\n",
    "    print(문자열)\n",
    "\n",
    "함수(\"안녕\")\n",
    "함수(\"Hi\")\n",
    "```"
   ]
  },
  {
   "cell_type": "code",
   "execution_count": 12,
   "metadata": {
    "id": "1Fse24b3P_uP"
   },
   "outputs": [
    {
     "name": "stdout",
     "output_type": "stream",
     "text": [
      "안녕\n",
      "Hi\n"
     ]
    }
   ],
   "source": [
    "def 함수(문자열) :\n",
    "    print(문자열)\n",
    "\n",
    "함수(\"안녕\")\n",
    "함수(\"Hi\")"
   ]
  },
  {
   "cell_type": "markdown",
   "metadata": {
    "id": "jyPw2HBcQAMi"
   },
   "source": [
    "12\n",
    "\n",
    "함수의 호출 결과를 예측하라.\n",
    "\n",
    "```\n",
    "def 함수(a, b) :\n",
    "    print(a + b)\n",
    "\n",
    "함수(3, 4)\n",
    "함수(7, 8)\n",
    "```"
   ]
  },
  {
   "cell_type": "code",
   "execution_count": 13,
   "metadata": {
    "id": "ZJLPbX_zQCaf"
   },
   "outputs": [
    {
     "name": "stdout",
     "output_type": "stream",
     "text": [
      "7\n",
      "15\n"
     ]
    }
   ],
   "source": [
    "def 함수(a, b) :\n",
    "    print(a + b)\n",
    "\n",
    "함수(3, 4)\n",
    "함수(7, 8)"
   ]
  },
  {
   "cell_type": "markdown",
   "metadata": {
    "id": "L2_nJyf6QEku"
   },
   "source": [
    "13\n",
    "\n",
    "아래와 같은 에러가 발생하는 원인을 설명하라.\n",
    "\n",
    "```\n",
    "def 함수(문자열) :\n",
    "    print(문자열)\n",
    "\n",
    "함수()\n",
    "```\n",
    "\n",
    "```\n",
    "TypeError: 함수() missing 1 required positional argument: '문자열'\n",
    "```"
   ]
  },
  {
   "cell_type": "code",
   "execution_count": 14,
   "metadata": {
    "id": "--nJXZkxQJ-n"
   },
   "outputs": [],
   "source": [
    "# 선언한 위치 인수가 인자로 들어가지않음"
   ]
  },
  {
   "cell_type": "markdown",
   "metadata": {
    "id": "KOnAR360QQmx"
   },
   "source": [
    "14\n",
    "\n",
    "아래와 같은 에러가 발생하는 원인을 설명하라.\n",
    "```\n",
    "def 함수(a, b) :\n",
    "    print(a + b)\n",
    "\n",
    "함수(\"안녕\", 3)\n",
    "```"
   ]
  },
  {
   "cell_type": "code",
   "execution_count": 15,
   "metadata": {
    "id": "VLwkbpheQT0e"
   },
   "outputs": [
    {
     "ename": "TypeError",
     "evalue": "can only concatenate str (not \"int\") to str",
     "output_type": "error",
     "traceback": [
      "\u001b[0;31m---------------------------------------------------------------------------\u001b[0m",
      "\u001b[0;31mTypeError\u001b[0m                                 Traceback (most recent call last)",
      "Cell \u001b[0;32mIn[15], line 4\u001b[0m\n\u001b[1;32m      1\u001b[0m \u001b[38;5;28;01mdef\u001b[39;00m \u001b[38;5;21m함수\u001b[39m(a, b) :\n\u001b[1;32m      2\u001b[0m     \u001b[38;5;28mprint\u001b[39m(a \u001b[38;5;241m+\u001b[39m b)\n\u001b[0;32m----> 4\u001b[0m \u001b[43m함수\u001b[49m\u001b[43m(\u001b[49m\u001b[38;5;124;43m\"\u001b[39;49m\u001b[38;5;124;43m안녕\u001b[39;49m\u001b[38;5;124;43m\"\u001b[39;49m\u001b[43m,\u001b[49m\u001b[43m \u001b[49m\u001b[38;5;241;43m3\u001b[39;49m\u001b[43m)\u001b[49m\n",
      "Cell \u001b[0;32mIn[15], line 2\u001b[0m, in \u001b[0;36m함수\u001b[0;34m(a, b)\u001b[0m\n\u001b[1;32m      1\u001b[0m \u001b[38;5;28;01mdef\u001b[39;00m \u001b[38;5;21m함수\u001b[39m(a, b) :\n\u001b[0;32m----> 2\u001b[0m     \u001b[38;5;28mprint\u001b[39m(\u001b[43ma\u001b[49m\u001b[43m \u001b[49m\u001b[38;5;241;43m+\u001b[39;49m\u001b[43m \u001b[49m\u001b[43mb\u001b[49m)\n",
      "\u001b[0;31mTypeError\u001b[0m: can only concatenate str (not \"int\") to str"
     ]
    }
   ],
   "source": [
    "def 함수(a, b) :\n",
    "    print(a + b)\n",
    "\n",
    "함수(\"안녕\", 3)"
   ]
  },
  {
   "cell_type": "markdown",
   "metadata": {
    "id": "HpDVku90QUr3"
   },
   "source": [
    "15\n",
    "\n",
    "하나의 문자를 입력받아 문자열 끝에 \":D\" 스마일 문자열을 이어 붙여 출력하는 print_with_smile 함수를 정의하라."
   ]
  },
  {
   "cell_type": "code",
   "execution_count": 16,
   "metadata": {
    "id": "JWZ1Ar4KQW3O"
   },
   "outputs": [],
   "source": [
    "def print_with_smile(s):\n",
    "    print(s, end=\":D\")"
   ]
  },
  {
   "cell_type": "markdown",
   "metadata": {
    "id": "9hm2K6BaQZ-v"
   },
   "source": [
    "16\n",
    "\n",
    "15에서 정의한 함수를 호출하라. 파라미터는 \"안녕하세요\"로 입력하라.\n",
    "\n"
   ]
  },
  {
   "cell_type": "code",
   "execution_count": 17,
   "metadata": {
    "id": "XufEKUK2QdgW"
   },
   "outputs": [
    {
     "name": "stdout",
     "output_type": "stream",
     "text": [
      "안녕하세요:D"
     ]
    }
   ],
   "source": [
    "print_with_smile(\"안녕하세요\")"
   ]
  },
  {
   "cell_type": "markdown",
   "metadata": {
    "id": "3lUj5hXRQfI-"
   },
   "source": [
    "17\n",
    "\n",
    "현재 가격을 입력 받아 상한가 (30%)를 출력하는 print_upper_price 함수를 정의하라."
   ]
  },
  {
   "cell_type": "code",
   "execution_count": 18,
   "metadata": {
    "id": "NG28myQ9QhI-"
   },
   "outputs": [],
   "source": [
    "def print_upper_price(current_price):\n",
    "    return current_price * 1.3"
   ]
  },
  {
   "cell_type": "markdown",
   "metadata": {
    "id": "jRC8OmBEQhhH"
   },
   "source": [
    "18\n",
    "\n",
    "두 개의 숫자를 입력받아 두 수의 합을 출력하는 print_sum 함수를 정의하라."
   ]
  },
  {
   "cell_type": "code",
   "execution_count": 19,
   "metadata": {
    "id": "wzPmXmzwQi_F"
   },
   "outputs": [],
   "source": [
    "def print_sum(a, b):\n",
    "    return a + b"
   ]
  },
  {
   "cell_type": "markdown",
   "metadata": {
    "id": "K117rkfdQkUY"
   },
   "source": [
    "19\n",
    "\n",
    "두 개의 숫자를 입력받아 합/차/곱/나눗셈을 출력하는 print_arithmetic_operation 함수를 작성하라."
   ]
  },
  {
   "cell_type": "code",
   "execution_count": 22,
   "metadata": {
    "id": "I3vzkMYhQkhu"
   },
   "outputs": [
    {
     "data": {
      "text/plain": [
       "(12, 8, 20, 5.0)"
      ]
     },
     "execution_count": 22,
     "metadata": {},
     "output_type": "execute_result"
    }
   ],
   "source": [
    "def print_arithmetic_operation(num1, num2):\n",
    "    return (\n",
    "        num1 + num2,\n",
    "        num1 - num2,\n",
    "        num1 * num2,\n",
    "        num1 / num2 if num2 != 0 else None\n",
    "    )\n",
    "#     # 덧셈\n",
    "#     addition = num1 + num2\n",
    "#     print(\"덧셈:\", addition)\n",
    "\n",
    "#     # 뺄셈\n",
    "#     subtraction = num1 - num2\n",
    "#     print(\"뺄셈:\", subtraction)\n",
    "\n",
    "#     # 곱셈\n",
    "#     multiplication = num1 * num2\n",
    "#     print(\"곱셈:\", multiplication)\n",
    "\n",
    "#     # 나눗셈\n",
    "#     if num2 != 0:\n",
    "#         division = num1 / num2\n",
    "#         print(\"나눗셈:\", division)\n",
    "#     else:\n",
    "#         print(\"0으로 나눌 수 없습니다.\")"
   ]
  },
  {
   "cell_type": "markdown",
   "metadata": {
    "id": "yjKnZeeXQmxz"
   },
   "source": [
    "20\n",
    "\n",
    "세 개의 숫자를 입력받아 가장 큰수를 출력하는 print_max 함수를 정의하라. 단 if 문을 사용해서 수를 비교하라."
   ]
  },
  {
   "cell_type": "code",
   "execution_count": 26,
   "metadata": {
    "id": "pghd6Rs1QnWN"
   },
   "outputs": [
    {
     "name": "stdout",
     "output_type": "stream",
     "text": [
      "가장 큰 수: 5\n"
     ]
    }
   ],
   "source": [
    "# def print_max(num1, num2, num3):\n",
    "#     max_num = num1\n",
    "\n",
    "#     if num2 > max_num:\n",
    "#         max_num = num2\n",
    "\n",
    "#     if num3 > max_num:\n",
    "#         max_num = num3\n",
    "\n",
    "#     print(\"가장 큰 수:\", max_num)\n",
    "\n",
    "    \n",
    "# def print_max(num1, num2, num3):\n",
    "#     max_num = max(num1, num2, num3)\n",
    "#     print(\"가장 큰 수:\", max_num)\n",
    "    \n",
    "print_max(1,2,5)"
   ]
  },
  {
   "cell_type": "markdown",
   "metadata": {
    "id": "2069nKrUQooZ"
   },
   "source": [
    "21\n",
    "\n",
    "입력된 문자열을 역순으로 출력하는 print_reverse 함수를 정의하라.\n",
    "\n",
    "```\n",
    "print_reverse(\"python\")\n",
    "```\n",
    "\n",
    "```\n",
    "nohtyp\n",
    "```"
   ]
  },
  {
   "cell_type": "code",
   "execution_count": 27,
   "metadata": {
    "id": "F6KF7nKUQuVt"
   },
   "outputs": [
    {
     "data": {
      "text/plain": [
       "'nohtyp'"
      ]
     },
     "execution_count": 27,
     "metadata": {},
     "output_type": "execute_result"
    }
   ],
   "source": [
    "def print_reverse(s):\n",
    "    return s[::-1]\n",
    "\n",
    "print_reverse(\"python\")"
   ]
  },
  {
   "cell_type": "markdown",
   "metadata": {
    "id": "I4q8JlvPQvAR"
   },
   "source": [
    "22\n",
    "\n",
    "성적 리스트를 입력 받아 평균을 출력하는 print_score 함수를 정의하라.\n",
    "```\n",
    "print_score ([1, 2, 3])\n",
    "```\n",
    "```\n",
    "2.0\n",
    "```"
   ]
  },
  {
   "cell_type": "code",
   "execution_count": 29,
   "metadata": {
    "id": "tL3eR4VCQwdk"
   },
   "outputs": [
    {
     "data": {
      "text/plain": [
       "2.0"
      ]
     },
     "execution_count": 29,
     "metadata": {},
     "output_type": "execute_result"
    }
   ],
   "source": [
    "def print_score(scores):\n",
    "    return sum(scores) / len(scores)\n",
    "\n",
    "print_score([1,2,3])"
   ]
  },
  {
   "cell_type": "markdown",
   "metadata": {
    "id": "-yvuLNj7Q8Io"
   },
   "source": [
    "23\n",
    "\n",
    "하나의 리스트를 입력받아 짝수만 화면에 출력하는 print_even 함수를 정의하라.\n",
    "```\n",
    "print_even ([1, 3, 2, 10, 12, 11, 15])\n",
    "```\n",
    "```\n",
    "2\n",
    "10\n",
    "12\n",
    "```"
   ]
  },
  {
   "cell_type": "code",
   "execution_count": 30,
   "metadata": {
    "id": "bHSSU059Q8vs"
   },
   "outputs": [
    {
     "name": "stdout",
     "output_type": "stream",
     "text": [
      "2\n",
      "10\n",
      "12\n"
     ]
    }
   ],
   "source": [
    "def print_even(numbers):\n",
    "    for num in numbers:\n",
    "        if num % 2 == 0:\n",
    "            print(num)\n",
    "            \n",
    "print_even([1,3,2,10,12,11,15])"
   ]
  },
  {
   "cell_type": "markdown",
   "metadata": {
    "id": "P1XGIn-fRBHI"
   },
   "source": [
    "24\n",
    "\n",
    "하나의 딕셔너리를 입력받아 딕셔너리의 key 값을 화면에 출력하는 print_keys 함수를 정의하라.\n",
    "\n",
    "```\n",
    "print_keys ({\"이름\":\"김말똥\", \"나이\":30, \"성별\":0})\n",
    "```\n",
    "\n",
    "```\n",
    "이름\n",
    "나이\n",
    "성별\n",
    "```\n"
   ]
  },
  {
   "cell_type": "code",
   "execution_count": null,
   "metadata": {
    "id": "1-qzLC7sRVhc"
   },
   "outputs": [],
   "source": []
  },
  {
   "cell_type": "markdown",
   "metadata": {
    "id": "OBbbhmTuSPZU"
   },
   "source": [
    "27\n",
    "\n",
    "연봉을 입력받아 월급을 계산하는 calc_monthly_salary(annual_salary) 함수를 정의하라. 회사는 연봉을 12개월로 나누어 분할 지급하며, \n",
    "\n",
    "이 때 1원 미만은 버림한다.\n",
    "\n",
    "```\n",
    "calc_monthly_salary(12000000)\n",
    "```\n",
    "```\n",
    "1000000\n",
    "```"
   ]
  },
  {
   "cell_type": "code",
   "execution_count": 34,
   "metadata": {
    "id": "fEwqkUWdSP_5"
   },
   "outputs": [
    {
     "data": {
      "text/plain": [
       "1000000"
      ]
     },
     "execution_count": 34,
     "metadata": {},
     "output_type": "execute_result"
    }
   ],
   "source": [
    "def calc_monthly_salary(annual_salary):\n",
    "    monthly_salary = int(annual_salary / 12)\n",
    "    return monthly_salary\n",
    "\n",
    "calc_monthly_salary(12000000)"
   ]
  },
  {
   "cell_type": "markdown",
   "metadata": {
    "id": "s1BANAOvSXOZ"
   },
   "source": [
    "28\n",
    "\n",
    "아래 코드의 실행 결과를 예측하라.\n",
    "\n",
    "```\n",
    "def my_print (a, b) :\n",
    "    print(\"왼쪽:\", a)\n",
    "    print(\"오른쪽:\", b)\n",
    "\n",
    "```\n",
    "my_print(a=100, b=200)"
   ]
  },
  {
   "cell_type": "code",
   "execution_count": 35,
   "metadata": {
    "id": "ugMfvXvtSad5"
   },
   "outputs": [
    {
     "name": "stdout",
     "output_type": "stream",
     "text": [
      "왼쪽: 100\n",
      "오른쪽: 200\n"
     ]
    }
   ],
   "source": [
    "def my_print (a, b) :\n",
    "    print(\"왼쪽:\", a)\n",
    "    print(\"오른쪽:\", b)\n",
    "my_print(a=100, b=200)"
   ]
  },
  {
   "cell_type": "markdown",
   "metadata": {
    "id": "uIFN2HqSScKs"
   },
   "source": [
    "29\n",
    "\n",
    "아래 코드의 실행 결과를 예측하라.\n",
    "\n",
    "```\n",
    "def my_print (a, b) :\n",
    "    print(\"왼쪽:\", a)\n",
    "    print(\"오른쪽:\", b)\n",
    "```\n",
    "```\n",
    "my_print(b=100, a=200)\n",
    "```"
   ]
  },
  {
   "cell_type": "code",
   "execution_count": 36,
   "metadata": {
    "id": "PcCCrEsOSvwg"
   },
   "outputs": [
    {
     "name": "stdout",
     "output_type": "stream",
     "text": [
      "왼쪽: 200\n",
      "오른쪽: 100\n"
     ]
    }
   ],
   "source": [
    "def my_print (a, b) :\n",
    "    print(\"왼쪽:\", a)\n",
    "    print(\"오른쪽:\", b)\n",
    "my_print(b=100, a=200)"
   ]
  },
  {
   "cell_type": "markdown",
   "metadata": {
    "id": "6aI2IJs1Sy4m"
   },
   "source": [
    "30\n",
    "\n",
    "아래 코드를 실행한 결과를 예상하라.\n",
    "\n",
    "```\n",
    "def n_plus_1 (n) :\n",
    "    result = n + 1\n",
    "```\n",
    "```\n",
    "n_plus_1(3)\n",
    "print (result)\n",
    "```"
   ]
  },
  {
   "cell_type": "code",
   "execution_count": 37,
   "metadata": {
    "id": "ZkK5seQDS6oH"
   },
   "outputs": [
    {
     "ename": "NameError",
     "evalue": "name 'result' is not defined",
     "output_type": "error",
     "traceback": [
      "\u001b[0;31m---------------------------------------------------------------------------\u001b[0m",
      "\u001b[0;31mNameError\u001b[0m                                 Traceback (most recent call last)",
      "Cell \u001b[0;32mIn[37], line 4\u001b[0m\n\u001b[1;32m      2\u001b[0m     result \u001b[38;5;241m=\u001b[39m n \u001b[38;5;241m+\u001b[39m \u001b[38;5;241m1\u001b[39m\n\u001b[1;32m      3\u001b[0m n_plus_1(\u001b[38;5;241m3\u001b[39m)\n\u001b[0;32m----> 4\u001b[0m \u001b[38;5;28mprint\u001b[39m (\u001b[43mresult\u001b[49m)\n",
      "\u001b[0;31mNameError\u001b[0m: name 'result' is not defined"
     ]
    }
   ],
   "source": [
    "def n_plus_1 (n) :\n",
    "    result = n + 1\n",
    "n_plus_1(3)\n",
    "print (result)"
   ]
  },
  {
   "cell_type": "markdown",
   "metadata": {
    "id": "YnxwO2HgS-6K"
   },
   "source": [
    "31\n",
    "\n",
    "문자열 하나를 입력받아 인터넷 주소를 반환하는 make_url 함수를 정의하라.\n",
    "```\n",
    "make_url(\"naver\")\n",
    "```\n",
    "```\n",
    "www.naver.com\n",
    "```"
   ]
  },
  {
   "cell_type": "code",
   "execution_count": 41,
   "metadata": {
    "id": "V9zsfPGkS_c_"
   },
   "outputs": [
    {
     "data": {
      "text/plain": [
       "'www.naver.com'"
      ]
     },
     "execution_count": 41,
     "metadata": {},
     "output_type": "execute_result"
    }
   ],
   "source": [
    "def make_url(string):\n",
    "    url = \"www.\" + string + \".com\"\n",
    "    return url\n",
    "\n",
    "make_url(\"naver\")"
   ]
  },
  {
   "cell_type": "markdown",
   "metadata": {
    "id": "ctVz3FNqTDaM"
   },
   "source": [
    "32\n",
    "\n",
    "문자열을 입력받아 각 문자들로 구성된 리스트로 반환하는 make_list 함수를 정의하라.\n",
    "\n",
    "```\n",
    "make_list(\"abcd\")\n",
    "```\n",
    "```\n",
    "['a', 'b', 'c', 'd']\n",
    "```"
   ]
  },
  {
   "cell_type": "code",
   "execution_count": 42,
   "metadata": {
    "id": "LlPbEv06TIJW"
   },
   "outputs": [
    {
     "data": {
      "text/plain": [
       "['a', 'b', 'c', 'd']"
      ]
     },
     "execution_count": 42,
     "metadata": {},
     "output_type": "execute_result"
    }
   ],
   "source": [
    "def make_list(string):\n",
    "    char_list = list(string)\n",
    "    return char_list\n",
    "\n",
    "make_list(['a', 'b', 'c', 'd'])"
   ]
  },
  {
   "cell_type": "markdown",
   "metadata": {
    "id": "MvWSnSS2TIsY"
   },
   "source": [
    "33\n",
    "\n",
    "숫자로 구성된 하나의 리스트를 입력받아, 짝수들을 추출하여 리스트로 반환하는 pickup_even 함수를 구현하라.\n",
    "\n",
    "```\n",
    "pickup_even([3, 4, 5, 6, 7, 8])\n",
    "```\n",
    "```\n",
    "[4, 6, 8]\n",
    "```"
   ]
  },
  {
   "cell_type": "code",
   "execution_count": 52,
   "metadata": {
    "id": "WvRTasfbTMhe"
   },
   "outputs": [
    {
     "name": "stdout",
     "output_type": "stream",
     "text": [
      "4\n",
      "6\n",
      "8\n"
     ]
    }
   ],
   "source": [
    "def pickup_even(numbers):\n",
    "    even_list = []\n",
    "    for num in numbers:\n",
    "        if num % 2 == 0:\n",
    "            even_list.append(num)\n",
    "    return even_list\n",
    "\n",
    "print_even([3,4,5,6,7,8])"
   ]
  },
  {
   "cell_type": "markdown",
   "metadata": {
    "id": "ipEGBNRhTOZ_"
   },
   "source": [
    "34\n",
    "\n",
    "콤마가 포함된 문자열 숫자를 입력받아 정수로 변환하는 convert_int 함수를 정의하라.\n",
    "\n",
    "```\n",
    "convert_int(\"1,234,567\")\n",
    "```\n",
    "```\n",
    "1234567\n",
    "```"
   ]
  },
  {
   "cell_type": "code",
   "execution_count": 54,
   "metadata": {
    "id": "9ho3c77NTRRe"
   },
   "outputs": [
    {
     "data": {
      "text/plain": [
       "1234567"
      ]
     },
     "execution_count": 54,
     "metadata": {},
     "output_type": "execute_result"
    }
   ],
   "source": [
    "def convert_int(string_number):\n",
    "    integer_number = int(string_number.replace(',', ''))\n",
    "    return integer_number\n",
    "\n",
    "convert_int('1,234,567')"
   ]
  },
  {
   "cell_type": "markdown",
   "metadata": {
    "id": "TEKwZi1NTS_j"
   },
   "source": [
    "35\n",
    "\n",
    "아래 코드의 실행 결과를 예측하라.\n",
    "\n",
    "```\n",
    "def 함수(num) :\n",
    "    return num + 4\n",
    "\n",
    "\n",
    "a = 함수(10)\n",
    "b = 함수(a)\n",
    "c = 함수(b)\n",
    "print(c)\n",
    "```"
   ]
  },
  {
   "cell_type": "code",
   "execution_count": 55,
   "metadata": {
    "id": "AeJIk70vTVbH"
   },
   "outputs": [
    {
     "name": "stdout",
     "output_type": "stream",
     "text": [
      "22\n"
     ]
    }
   ],
   "source": [
    "def 함수(num) :\n",
    "    return num + 4\n",
    "\n",
    "\n",
    "a = 함수(10)\n",
    "b = 함수(a)\n",
    "c = 함수(b)\n",
    "print(c)"
   ]
  },
  {
   "cell_type": "markdown",
   "metadata": {
    "id": "838UmNADTXK2"
   },
   "source": [
    "36\n",
    "\n",
    "아래 코드의 실행 결과를 예측하라.\n",
    "\n",
    "```\n",
    "def 함수(num) :\n",
    "    return num + 4\n",
    "\n",
    "c = 함수(함수(함수(10)))\n",
    "print(c)\n",
    "```"
   ]
  },
  {
   "cell_type": "code",
   "execution_count": 56,
   "metadata": {
    "id": "l1DN9Nl3TZHO"
   },
   "outputs": [
    {
     "name": "stdout",
     "output_type": "stream",
     "text": [
      "22\n"
     ]
    }
   ],
   "source": [
    "def 함수(num) :\n",
    "    return num + 4\n",
    "\n",
    "c = 함수(함수(함수(10)))\n",
    "print(c)"
   ]
  },
  {
   "cell_type": "markdown",
   "metadata": {
    "id": "_ffE0iAtTbve"
   },
   "source": [
    "37\n",
    "\n",
    "아래 코드의 실행 결과를 예측하라.\n",
    "\n",
    "```\n",
    "def 함수1(num) :\n",
    "    return num + 4\n",
    "\n",
    "def 함수2(num) :\n",
    "    return num * 10\n",
    "\n",
    "a = 함수1(10)\n",
    "c = 함수2(a)\n",
    "print(c)\n",
    "```"
   ]
  },
  {
   "cell_type": "code",
   "execution_count": 57,
   "metadata": {
    "id": "5j8zq0skTd82"
   },
   "outputs": [
    {
     "name": "stdout",
     "output_type": "stream",
     "text": [
      "140\n"
     ]
    }
   ],
   "source": [
    "def 함수1(num) :\n",
    "    return num + 4\n",
    "\n",
    "def 함수2(num) :\n",
    "    return num * 10\n",
    "\n",
    "a = 함수1(10)\n",
    "c = 함수2(a)\n",
    "print(c)"
   ]
  },
  {
   "cell_type": "markdown",
   "metadata": {
    "id": "LXr2yvqVTgcR"
   },
   "source": [
    "38\n",
    "\n",
    "아래 코드의 실행 결과를 예측하라.\n",
    "\n",
    "```\n",
    "def 함수1(num) :\n",
    "    return num + 4\n",
    "\n",
    "def 함수2(num) :\n",
    "    num = num + 2\n",
    "    return 함수1(num)\n",
    "\n",
    "c = 함수2(10)\n",
    "print(c)\n",
    "```"
   ]
  },
  {
   "cell_type": "code",
   "execution_count": 58,
   "metadata": {
    "id": "3XH601oJTjul"
   },
   "outputs": [
    {
     "name": "stdout",
     "output_type": "stream",
     "text": [
      "16\n"
     ]
    }
   ],
   "source": [
    "def 함수1(num) :\n",
    "    return num + 4\n",
    "\n",
    "def 함수2(num) :\n",
    "    num = num + 2\n",
    "    return 함수1(num)\n",
    "\n",
    "c = 함수2(10)\n",
    "print(c)"
   ]
  },
  {
   "cell_type": "markdown",
   "metadata": {
    "id": "S2Lred36TkuA"
   },
   "source": [
    "39\n",
    "아래 코드의 실행 결과를 예측하라.\n",
    "\n",
    "```\n",
    "def 함수0(num) :\n",
    "    return num * 2\n",
    "\n",
    "def 함수1(num) :\n",
    "    return 함수0(num + 2)\n",
    "\n",
    "def 함수2(num) :\n",
    "    num = num + 10\n",
    "    return 함수1(num)\n",
    "\n",
    "c = 함수2(2)\n",
    "print(c)\n",
    "```"
   ]
  },
  {
   "cell_type": "code",
   "execution_count": 59,
   "metadata": {
    "id": "HwPkba8VTqA1"
   },
   "outputs": [
    {
     "name": "stdout",
     "output_type": "stream",
     "text": [
      "28\n"
     ]
    }
   ],
   "source": [
    "def 함수0(num) :\n",
    "    return num * 2\n",
    "\n",
    "def 함수1(num) :\n",
    "    return 함수0(num + 2)\n",
    "\n",
    "def 함수2(num) :\n",
    "    num = num + 10\n",
    "    return 함수1(num)\n",
    "\n",
    "c = 함수2(2)\n",
    "print(c)"
   ]
  },
  {
   "cell_type": "code",
   "execution_count": null,
   "metadata": {},
   "outputs": [],
   "source": []
  }
 ],
 "metadata": {
  "colab": {
   "provenance": []
  },
  "kernelspec": {
   "display_name": "Python 3 (ipykernel)",
   "language": "python",
   "name": "python3"
  },
  "language_info": {
   "codemirror_mode": {
    "name": "ipython",
    "version": 3
   },
   "file_extension": ".py",
   "mimetype": "text/x-python",
   "name": "python",
   "nbconvert_exporter": "python",
   "pygments_lexer": "ipython3",
   "version": "3.10.7"
  }
 },
 "nbformat": 4,
 "nbformat_minor": 1
}
